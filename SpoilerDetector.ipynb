{
 "cells": [
  {
   "cell_type": "markdown",
   "metadata": {
    "execution": {
     "iopub.execute_input": "2022-01-28T08:17:36.472831Z",
     "iopub.status.busy": "2022-01-28T08:17:36.472614Z",
     "iopub.status.idle": "2022-01-28T08:17:38.215359Z",
     "shell.execute_reply": "2022-01-28T08:17:38.214572Z",
     "shell.execute_reply.started": "2022-01-28T08:17:36.472803Z"
    }
   },
   "source": [
    "# SpoilerDetector Project"
   ]
  },
  {
   "cell_type": "markdown",
   "metadata": {},
   "source": [
    "We have used a lot of libraries in our project, thats a short description:\n",
    "- Numpy has been used for the linear algebra operations \n",
    "- Pandas has been used for the data processing and the I/O of the data\n",
    "- NLTK raggroups all the Natural Language Processing techniques \n",
    "- Pandarell has been used to parallelize the computation on pandas dataframes \n",
    "- Unicode, re and string have been used to process the string \n",
    "- Statistics has been used to compute some analysis\n",
    "- Datatime is a library that includes operations on timestamps\n",
    "- Contractions has been used to expand contractions in text cleaning"
   ]
  },
  {
   "cell_type": "code",
   "execution_count": 1,
   "metadata": {},
   "outputs": [],
   "source": [
    "import numpy as np # linear algebra\n",
    "import pandas as pd # data processing, CSV file I/O (e.g. pd.read_csv)\n",
    "import matplotlib.pyplot as plt # Used to do plots\n",
    "%matplotlib inline\n",
    "\n",
    "import nltk \n",
    "from nltk.corpus import stopwords # Stopwords \n",
    "from nltk.tokenize import word_tokenize # Word_tokenizer\n",
    "from nltk.stem.porter import PorterStemmer\n",
    "from pattern.text.en import singularize\n",
    "\n",
    "from pandarallel import pandarallel # Parallel workers on pandas dataframe\n",
    "\n",
    "import unidecode\n",
    "import re \n",
    "import time\n",
    "import string\n",
    "import statistics\n",
    "\n",
    "from datetime import datetime\n",
    "\n",
    "import contractions"
   ]
  },
  {
   "cell_type": "code",
   "execution_count": 2,
   "metadata": {
    "execution": {
     "iopub.execute_input": "2022-01-28T08:17:53.974894Z",
     "iopub.status.busy": "2022-01-28T08:17:53.973976Z",
     "iopub.status.idle": "2022-01-28T08:17:53.988144Z",
     "shell.execute_reply": "2022-01-28T08:17:53.987368Z",
     "shell.execute_reply.started": "2022-01-28T08:17:53.974846Z"
    }
   },
   "outputs": [],
   "source": [
    "stop = stopwords.words('english') # Set of stopwords\n",
    "\n",
    "words = set(nltk.corpus.words.words()) # Set of meaniningful words"
   ]
  },
  {
   "cell_type": "code",
   "execution_count": 3,
   "metadata": {},
   "outputs": [
    {
     "name": "stdout",
     "output_type": "stream",
     "text": [
      "INFO: Pandarallel will run on 8 workers.\n",
      "INFO: Pandarallel will use standard multiprocessing data transfer (pipe) to transfer data between the main process and workers.\n"
     ]
    }
   ],
   "source": [
    "pandarallel.initialize(nb_workers=8) # Describes how much processors to use in pandas parallel computations"
   ]
  },
  {
   "cell_type": "markdown",
   "metadata": {},
   "source": [
    "# **DATASET LOADING AND OVERVIEW**"
   ]
  },
  {
   "cell_type": "markdown",
   "metadata": {},
   "source": [
    "In this section we have performed the operation of loading the dataset and analyze its characteristics. \\\n",
    "We have loaded the dataset from a JSON file using Pandas and analyzed his shape, first n values and columns info."
   ]
  },
  {
   "cell_type": "code",
   "execution_count": 4,
   "metadata": {
    "execution": {
     "iopub.execute_input": "2022-01-28T08:17:53.990313Z",
     "iopub.status.busy": "2022-01-28T08:17:53.989799Z",
     "iopub.status.idle": "2022-01-28T08:18:13.517695Z",
     "shell.execute_reply": "2022-01-28T08:18:13.51677Z",
     "shell.execute_reply.started": "2022-01-28T08:17:53.990278Z"
    }
   },
   "outputs": [],
   "source": [
    "# Read the json file and load it as dataframe \n",
    "df_reviews = pd.read_json('Dataset/IMDB_reviews.json', lines=True) "
   ]
  },
  {
   "cell_type": "code",
   "execution_count": 5,
   "metadata": {
    "execution": {
     "iopub.execute_input": "2022-01-28T08:18:13.949771Z",
     "iopub.status.busy": "2022-01-28T08:18:13.949561Z",
     "iopub.status.idle": "2022-01-28T08:18:13.955525Z",
     "shell.execute_reply": "2022-01-28T08:18:13.954657Z",
     "shell.execute_reply.started": "2022-01-28T08:18:13.949744Z"
    }
   },
   "outputs": [
    {
     "name": "stdout",
     "output_type": "stream",
     "text": [
      "User reviews shape:  (573913, 7)\n"
     ]
    }
   ],
   "source": [
    "# Print datasets shape\n",
    "print('User reviews shape: ', df_reviews.shape)"
   ]
  },
  {
   "cell_type": "code",
   "execution_count": 6,
   "metadata": {
    "execution": {
     "iopub.execute_input": "2022-01-28T08:18:13.958866Z",
     "iopub.status.busy": "2022-01-28T08:18:13.958614Z",
     "iopub.status.idle": "2022-01-28T08:18:13.992193Z",
     "shell.execute_reply": "2022-01-28T08:18:13.991639Z",
     "shell.execute_reply.started": "2022-01-28T08:18:13.958835Z"
    }
   },
   "outputs": [
    {
     "data": {
      "text/html": [
       "<div>\n",
       "<style scoped>\n",
       "    .dataframe tbody tr th:only-of-type {\n",
       "        vertical-align: middle;\n",
       "    }\n",
       "\n",
       "    .dataframe tbody tr th {\n",
       "        vertical-align: top;\n",
       "    }\n",
       "\n",
       "    .dataframe thead th {\n",
       "        text-align: right;\n",
       "    }\n",
       "</style>\n",
       "<table border=\"1\" class=\"dataframe\">\n",
       "  <thead>\n",
       "    <tr style=\"text-align: right;\">\n",
       "      <th></th>\n",
       "      <th>review_date</th>\n",
       "      <th>movie_id</th>\n",
       "      <th>user_id</th>\n",
       "      <th>is_spoiler</th>\n",
       "      <th>review_text</th>\n",
       "      <th>rating</th>\n",
       "      <th>review_summary</th>\n",
       "    </tr>\n",
       "  </thead>\n",
       "  <tbody>\n",
       "    <tr>\n",
       "      <th>0</th>\n",
       "      <td>10 February 2006</td>\n",
       "      <td>tt0111161</td>\n",
       "      <td>ur1898687</td>\n",
       "      <td>True</td>\n",
       "      <td>In its Oscar year, Shawshank Redemption (writt...</td>\n",
       "      <td>10</td>\n",
       "      <td>A classic piece of unforgettable film-making.</td>\n",
       "    </tr>\n",
       "    <tr>\n",
       "      <th>1</th>\n",
       "      <td>6 September 2000</td>\n",
       "      <td>tt0111161</td>\n",
       "      <td>ur0842118</td>\n",
       "      <td>True</td>\n",
       "      <td>The Shawshank Redemption is without a doubt on...</td>\n",
       "      <td>10</td>\n",
       "      <td>Simply amazing. The best film of the 90's.</td>\n",
       "    </tr>\n",
       "    <tr>\n",
       "      <th>2</th>\n",
       "      <td>3 August 2001</td>\n",
       "      <td>tt0111161</td>\n",
       "      <td>ur1285640</td>\n",
       "      <td>True</td>\n",
       "      <td>I believe that this film is the best story eve...</td>\n",
       "      <td>8</td>\n",
       "      <td>The best story ever told on film</td>\n",
       "    </tr>\n",
       "    <tr>\n",
       "      <th>3</th>\n",
       "      <td>1 September 2002</td>\n",
       "      <td>tt0111161</td>\n",
       "      <td>ur1003471</td>\n",
       "      <td>True</td>\n",
       "      <td>**Yes, there are SPOILERS here**This film has ...</td>\n",
       "      <td>10</td>\n",
       "      <td>Busy dying or busy living?</td>\n",
       "    </tr>\n",
       "    <tr>\n",
       "      <th>4</th>\n",
       "      <td>20 May 2004</td>\n",
       "      <td>tt0111161</td>\n",
       "      <td>ur0226855</td>\n",
       "      <td>True</td>\n",
       "      <td>At the heart of this extraordinary movie is a ...</td>\n",
       "      <td>8</td>\n",
       "      <td>Great story, wondrously told and acted</td>\n",
       "    </tr>\n",
       "  </tbody>\n",
       "</table>\n",
       "</div>"
      ],
      "text/plain": [
       "        review_date   movie_id    user_id  is_spoiler  \\\n",
       "0  10 February 2006  tt0111161  ur1898687        True   \n",
       "1  6 September 2000  tt0111161  ur0842118        True   \n",
       "2     3 August 2001  tt0111161  ur1285640        True   \n",
       "3  1 September 2002  tt0111161  ur1003471        True   \n",
       "4       20 May 2004  tt0111161  ur0226855        True   \n",
       "\n",
       "                                         review_text  rating  \\\n",
       "0  In its Oscar year, Shawshank Redemption (writt...      10   \n",
       "1  The Shawshank Redemption is without a doubt on...      10   \n",
       "2  I believe that this film is the best story eve...       8   \n",
       "3  **Yes, there are SPOILERS here**This film has ...      10   \n",
       "4  At the heart of this extraordinary movie is a ...       8   \n",
       "\n",
       "                                  review_summary  \n",
       "0  A classic piece of unforgettable film-making.  \n",
       "1     Simply amazing. The best film of the 90's.  \n",
       "2               The best story ever told on film  \n",
       "3                     Busy dying or busy living?  \n",
       "4         Great story, wondrously told and acted  "
      ]
     },
     "execution_count": 6,
     "metadata": {},
     "output_type": "execute_result"
    }
   ],
   "source": [
    "# Get an idea about the reviews dataset\n",
    "df_reviews.head()"
   ]
  },
  {
   "cell_type": "code",
   "execution_count": 7,
   "metadata": {
    "execution": {
     "iopub.execute_input": "2022-01-28T08:18:14.019293Z",
     "iopub.status.busy": "2022-01-28T08:18:14.019039Z",
     "iopub.status.idle": "2022-01-28T08:18:14.46325Z",
     "shell.execute_reply": "2022-01-28T08:18:14.46238Z",
     "shell.execute_reply.started": "2022-01-28T08:18:14.019263Z"
    }
   },
   "outputs": [
    {
     "name": "stdout",
     "output_type": "stream",
     "text": [
      "<class 'pandas.core.frame.DataFrame'>\n",
      "RangeIndex: 573913 entries, 0 to 573912\n",
      "Data columns (total 7 columns):\n",
      " #   Column          Non-Null Count   Dtype \n",
      "---  ------          --------------   ----- \n",
      " 0   review_date     573913 non-null  object\n",
      " 1   movie_id        573913 non-null  object\n",
      " 2   user_id         573913 non-null  object\n",
      " 3   is_spoiler      573913 non-null  bool  \n",
      " 4   review_text     573913 non-null  object\n",
      " 5   rating          573913 non-null  int64 \n",
      " 6   review_summary  573913 non-null  object\n",
      "dtypes: bool(1), int64(1), object(5)\n",
      "memory usage: 26.8+ MB\n"
     ]
    }
   ],
   "source": [
    "# Analyze the type of the columns and non-null values of them\n",
    "df_reviews.info()"
   ]
  },
  {
   "cell_type": "markdown",
   "metadata": {},
   "source": [
    "# **DATA ANALYSIS**"
   ]
  },
  {
   "cell_type": "markdown",
   "metadata": {},
   "source": [
    "In this section we have analyzed the data of the dataset in order to better understand how the dataset was composed. "
   ]
  },
  {
   "cell_type": "markdown",
   "metadata": {},
   "source": [
    "### Dataset Distribution"
   ]
  },
  {
   "cell_type": "markdown",
   "metadata": {},
   "source": [
    "First of all we have analyzed how the two classes are distributed in the dataset."
   ]
  },
  {
   "cell_type": "code",
   "execution_count": 8,
   "metadata": {
    "execution": {
     "iopub.execute_input": "2022-01-28T08:18:15.404472Z",
     "iopub.status.busy": "2022-01-28T08:18:15.404218Z",
     "iopub.status.idle": "2022-01-28T08:18:15.636482Z",
     "shell.execute_reply": "2022-01-28T08:18:15.635656Z",
     "shell.execute_reply.started": "2022-01-28T08:18:15.404441Z"
    }
   },
   "outputs": [
    {
     "name": "stdout",
     "output_type": "stream",
     "text": [
      "Percentage distribution in the dataset of spoilers and not spoilers \n",
      "\n",
      "False    73.7\n",
      "True     26.3\n",
      "Name: is_spoiler, dtype: float64\n"
     ]
    },
    {
     "data": {
      "image/png": "[encoded data removed]",
      "text/plain": [
       "<Figure size 432x288 with 1 Axes>"
      ]
     },
     "metadata": {
      "needs_background": "light"
     },
     "output_type": "display_data"
    }
   ],
   "source": [
    "print('Percentage distribution in the dataset of spoilers and not spoilers \\n')\n",
    "\n",
    "# Compute distribution between classes\n",
    "print(round(df_reviews.is_spoiler.value_counts(normalize=True)*100,2)) \n",
    "# Plot distribution between classes \n",
    "round(df_reviews.is_spoiler.value_counts(normalize=True)*100,2).plot(kind='bar')\n",
    "\n",
    "plt.title('Distributions')\n",
    "plt.show()"
   ]
  },
  {
   "cell_type": "markdown",
   "metadata": {},
   "source": [
    "As we can see, the dataset is a little imbalanced: 73% of the reviews are not spoiler and 26% of the reviews are spoiler."
   ]
  },
  {
   "cell_type": "markdown",
   "metadata": {},
   "source": [
    "### Check missing values"
   ]
  },
  {
   "cell_type": "markdown",
   "metadata": {},
   "source": [
    "We have analyzed if the dataset had some null values to handle and we didn't found any of them."
   ]
  },
  {
   "cell_type": "code",
   "execution_count": 9,
   "metadata": {
    "execution": {
     "iopub.execute_input": "2022-01-28T08:18:15.638022Z",
     "iopub.status.busy": "2022-01-28T08:18:15.637785Z",
     "iopub.status.idle": "2022-01-28T08:18:17.113803Z",
     "shell.execute_reply": "2022-01-28T08:18:17.112903Z",
     "shell.execute_reply.started": "2022-01-28T08:18:15.637991Z"
    }
   },
   "outputs": [
    {
     "name": "stdout",
     "output_type": "stream",
     "text": [
      "                Count  Percentage\n",
      "review_date         0         0.0\n",
      "movie_id            0         0.0\n",
      "user_id             0         0.0\n",
      "is_spoiler          0         0.0\n",
      "review_text         0         0.0\n",
      "rating              0         0.0\n",
      "review_summary      0         0.0\n"
     ]
    }
   ],
   "source": [
    "# Count missing values for each column\n",
    "count = df_reviews.isnull().sum().sort_values(ascending=False)\n",
    "\n",
    "# Compute percentage \n",
    "percentage = ((df_reviews.isnull().sum()/len(df_reviews)*100)).sort_values(ascending=False)\n",
    "\n",
    "# Concatenate count and percentage arrays and print them \n",
    "missing_data = pd.concat([count,percentage],axis=1, keys=['Count','Percentage'])\n",
    "\n",
    "print(missing_data)"
   ]
  },
  {
   "cell_type": "markdown",
   "metadata": {},
   "source": [
    "### Percentage of spoiler for rating level"
   ]
  },
  {
   "cell_type": "markdown",
   "metadata": {},
   "source": [
    "We have analyzed if the review's rating was a spoiler factor. We have done this operation processing the percentage of spoiler in each of the rating compared to the total number of reviews for each rating."
   ]
  },
  {
   "cell_type": "code",
   "execution_count": 10,
   "metadata": {
    "execution": {
     "iopub.execute_input": "2022-01-28T08:18:17.1159Z",
     "iopub.status.busy": "2022-01-28T08:18:17.115388Z",
     "iopub.status.idle": "2022-01-28T08:18:17.372845Z",
     "shell.execute_reply": "2022-01-28T08:18:17.371978Z",
     "shell.execute_reply.started": "2022-01-28T08:18:17.115853Z"
    }
   },
   "outputs": [
    {
     "data": {
      "image/png": "[encoded data removed]",
      "text/plain": [
       "<Figure size 432x288 with 1 Axes>"
      ]
     },
     "metadata": {
      "needs_background": "light"
     },
     "output_type": "display_data"
    }
   ],
   "source": [
    "group = df_reviews.groupby('rating') # Groupby rating\n",
    " # Get only the spoiler reviews and group them by rating\n",
    "group_is_spoiler = df_reviews[df_reviews['is_spoiler'] == True].groupby('rating')\n",
    "tot_review_for_vote = group.size() # Get the number of reviews foreach vote\n",
    "tot_spoiler_for_vote = group_is_spoiler.size() # Get the number of spoiler review foreach vote\n",
    "percentage = ((tot_spoiler_for_vote / tot_review_for_vote) * 100) # Compute the %\n",
    "\n",
    "# Print % graph\n",
    "\n",
    "y_axis = ['1', '2', '3', '4', '5', '6','7','8','9','10']\n",
    "x_axis = percentage.tolist()\n",
    "\n",
    "plt.barh(y_axis,x_axis,color=['red','cyan','blue','purple','lime','magenta','orange','brown','silver','Green'])\n",
    "plt.xlim(0,100)\n",
    "plt.title('Percentage of spoiler reviews per rating')\n",
    "plt.ylabel('Ratings')\n",
    "plt.xlabel('Percentages')\n",
    "plt.show()"
   ]
  },
  {
   "cell_type": "markdown",
   "metadata": {},
   "source": [
    "We have found that with the increase of the rating value the percentage of spoiler decreases a little. "
   ]
  },
  {
   "cell_type": "markdown",
   "metadata": {},
   "source": [
    "### Checking spoiler distribution for some selected words "
   ]
  },
  {
   "cell_type": "markdown",
   "metadata": {},
   "source": [
    "We have compared some classic spoiler words, which are \"spoiler\", \"die\" and \"win\" in our case, counting the number of spoiler (and not) reviews that contains that word in relation to the total number of reviews in the dataset."
   ]
  },
  {
   "cell_type": "code",
   "execution_count": 11,
   "metadata": {
    "execution": {
     "iopub.execute_input": "2022-01-28T08:18:17.374934Z",
     "iopub.status.busy": "2022-01-28T08:18:17.374618Z",
     "iopub.status.idle": "2022-01-28T08:18:17.541118Z",
     "shell.execute_reply": "2022-01-28T08:18:17.539991Z",
     "shell.execute_reply.started": "2022-01-28T08:18:17.374889Z"
    }
   },
   "outputs": [],
   "source": [
    "def compare_review_by_word(word,df_reviews):\n",
    "    \n",
    "    # Create the name for the column that will be added to the dataset\n",
    "    column_name = 'contains_word_' + word \n",
    "    # Filtering reviews that contains the word \"word\"\n",
    "    df_reviews[column_name] = df_reviews['review_text'].apply(lambda x: word.lower() in x.lower()) \n",
    "    \n",
    "    # Count the number of reviews that contains the word \"word\"\n",
    "    n_reviews_with_word = df_reviews[df_reviews[column_name] == True].shape[0]\n",
    "    # Count the number of reviews that are spoiler and contains the word \"word\"\n",
    "    spoilers_with_word = df_reviews[(df_reviews['is_spoiler'] == True) & (df_reviews[column_name] == True)].shape[0]\n",
    "    # Count the number of reviews that are NOT spoiler and contains the word \"word\"\n",
    "    not_spoilers_with_word = df_reviews[(df_reviews['is_spoiler'] == False) & (df_reviews[column_name] == True)].shape[0]\n",
    "    # Count the number of spoilers in total\n",
    "    total_spoilers = df_reviews[(df_reviews['is_spoiler'] == True)].shape[0]\n",
    "    \n",
    "    print(\"Spoiler reviews that contain the word \" + word + \": \" + str(spoilers_with_word))\n",
    "    print(\"Not spoiler reviews that contain the word \" + word + \": \" + str(not_spoilers_with_word))\n",
    "    print(\"Total number of spoiler reviews: \" + str(total_spoilers))\n",
    "    print(\"\\n--------------------------------------------------------------- \\n\")\n",
    "    \n",
    "    # -------------------------------- #\n",
    "    \n",
    "    # Plot the graphs \n",
    "    \n",
    "    fig, (ax1,ax2) = plt.subplots(1,2,figsize=(15,15)) #ax1,ax2 refer to your two pies\n",
    "    fig.tight_layout(pad = 10.0)\n",
    "    \n",
    "    # Graph that compare the number of reviews that are spoiler/not spoiler and contains the word \"word\"\n",
    "    labels = [\"Spoiler\", \"Not spoiler\"]\n",
    "    values = np.array([(spoilers_with_word/n_reviews_with_word)*100,(not_spoilers_with_word/n_reviews_with_word)*100 ])\n",
    "    ax1.pie(values,labels = labels,colors = ['#ff6361','#ffa600'],autopct='%1.2f%%') #plot first pie\n",
    "    ax1.set_title('Reviews containing the word ' + word)\n",
    "\n",
    "    # Graph that compare the number of reviews in total that contains/not contains the word \"word\" \n",
    "    labels = [\"Containing the word \" + word, \"Not containing the word \" + word]\n",
    "    values = np.array([(spoilers_with_word/total_spoilers)*100,((total_spoilers - spoilers_with_word)/total_spoilers)*100 ])\n",
    "    ax2.pie(values,labels = labels,colors = ['#ff6361', '#77B1E0'],autopct = '%1.2f%%') #plot second pie\n",
    "    ax2.set_title('Spoiler reviews')\n",
    "\n",
    "    # Remove the column created\n",
    "    df_reviews = df_reviews.drop([column_name], axis=1)\n",
    "    \n",
    "    return df_reviews"
   ]
  },
  {
   "cell_type": "code",
   "execution_count": 12,
   "metadata": {
    "execution": {
     "iopub.execute_input": "2022-01-28T08:18:17.543361Z",
     "iopub.status.busy": "2022-01-28T08:18:17.542703Z",
     "iopub.status.idle": "2022-01-28T08:18:26.018729Z",
     "shell.execute_reply": "2022-01-28T08:18:26.017937Z",
     "shell.execute_reply.started": "2022-01-28T08:18:17.543327Z"
    }
   },
   "outputs": [
    {
     "name": "stdout",
     "output_type": "stream",
     "text": [
      "Spoiler reviews that contain the word spoiler: 19018\n",
      "Not spoiler reviews that contain the word spoiler: 7418\n",
      "Total number of spoiler reviews: 150924\n",
      "\n",
      "--------------------------------------------------------------- \n",
      "\n",
      "Spoiler reviews that contain the word die: 48060\n",
      "Not spoiler reviews that contain the word die: 92520\n",
      "Total number of spoiler reviews: 150924\n",
      "\n",
      "--------------------------------------------------------------- \n",
      "\n",
      "Spoiler reviews that contain the word win: 47468\n",
      "Not spoiler reviews that contain the word win: 96692\n",
      "Total number of spoiler reviews: 150924\n",
      "\n",
      "--------------------------------------------------------------- \n",
      "\n"
     ]
    },
    {
     "data": {
      "image/png": "[encoded data removed]",
      "text/plain": [
       "<Figure size 1080x1080 with 2 Axes>"
      ]
     },
     "metadata": {},
     "output_type": "display_data"
    },
    {
     "data": {
      "image/png": "[encoded data removed]",
      "text/plain": [
       "<Figure size 1080x1080 with 2 Axes>"
      ]
     },
     "metadata": {},
     "output_type": "display_data"
    },
    {
     "data": {
      "image/png": "[encoded data removed]",
      "text/plain": [
       "<Figure size 1080x1080 with 2 Axes>"
      ]
     },
     "metadata": {},
     "output_type": "display_data"
    }
   ],
   "source": [
    "# Plot the pies for words \"spoiler\", \"die\" and \"win\".\n",
    "df_reviews = compare_review_by_word('spoiler',df_reviews)\n",
    "df_reviews = compare_review_by_word('die',df_reviews)\n",
    "df_reviews = compare_review_by_word('win',df_reviews)"
   ]
  },
  {
   "cell_type": "markdown",
   "metadata": {},
   "source": [
    "On the left of each figure, it's represented the distribution of classes respect to the total number of reviews containing the word. On the right, it's represented the distribution of reviews that contains that words respect to the total number of spoiler reviews in the dataset."
   ]
  },
  {
   "cell_type": "markdown",
   "metadata": {},
   "source": [
    "### Average number of words for spoiler and not spoiler reviews"
   ]
  },
  {
   "cell_type": "markdown",
   "metadata": {},
   "source": [
    "We have analyzed if the review length is a discriminant respect to the spoiler label. We have found that in average the number of words used in the spoiler review is higher than in not spoiler reviews."
   ]
  },
  {
   "cell_type": "code",
   "execution_count": 13,
   "metadata": {
    "execution": {
     "iopub.execute_input": "2022-01-28T08:18:26.020737Z",
     "iopub.status.busy": "2022-01-28T08:18:26.020144Z",
     "iopub.status.idle": "2022-01-28T08:18:35.415908Z",
     "shell.execute_reply": "2022-01-28T08:18:35.414974Z",
     "shell.execute_reply.started": "2022-01-28T08:18:26.0207Z"
    }
   },
   "outputs": [
    {
     "name": "stdout",
     "output_type": "stream",
     "text": [
      "avg words for spoiler reviews: 335\n",
      "avg words for not spoiler reviews: 232\n"
     ]
    },
    {
     "data": {
      "image/png": "[encoded data removed]",
      "text/plain": [
       "<Figure size 432x288 with 1 Axes>"
      ]
     },
     "metadata": {
      "needs_background": "light"
     },
     "output_type": "display_data"
    }
   ],
   "source": [
    "# Compute the number of words foreach review\n",
    "df_reviews['number_of_words_in_review'] = df_reviews['review_text'].apply(lambda x: len(x.split(\" \")))\n",
    "\n",
    "# Compute the mean for spoiler and not spoiler reviews\n",
    "avg_length_of_spoilers = df_reviews.groupby('is_spoiler').mean()['number_of_words_in_review']\n",
    "\n",
    "# Print values\n",
    "print('avg words for spoiler reviews: ' + str('{:.0f}'.format(avg_length_of_spoilers[1])))\n",
    "print('avg words for not spoiler reviews: ' + str('{:.0f}'.format(avg_length_of_spoilers[0])))\n",
    "\n",
    "# ---- PLOT ----- #\n",
    "\n",
    "plt.bar('Spoiler', avg_length_of_spoilers[0])\n",
    "plt.bar('Not Spoiler', avg_length_of_spoilers[1])\n",
    "\n",
    "plt.ylabel('Avg number of words per review')\n",
    "\n",
    "plt.show()\n",
    "\n",
    "# Remove the column created\n",
    "df_reviews = df_reviews.drop(['number_of_words_in_review'], axis=1)\n",
    "\n"
   ]
  },
  {
   "cell_type": "markdown",
   "metadata": {},
   "source": [
    " "
   ]
  },
  {
   "cell_type": "code",
   "execution_count": 14,
   "metadata": {},
   "outputs": [],
   "source": [
    "df_reviews_dataset = df_reviews"
   ]
  },
  {
   "cell_type": "markdown",
   "metadata": {},
   "source": [
    "# **DATA PREPROCESSING**"
   ]
  },
  {
   "cell_type": "markdown",
   "metadata": {},
   "source": [
    "In this section we have done some text preprocessing operation to transform and clean the text of the reviews. "
   ]
  },
  {
   "cell_type": "markdown",
   "metadata": {},
   "source": [
    "### **Data Cleaning**"
   ]
  },
  {
   "cell_type": "code",
   "execution_count": 15,
   "metadata": {
    "execution": {
     "iopub.execute_input": "2022-01-24T15:57:50.965979Z",
     "iopub.status.busy": "2022-01-24T15:57:50.965645Z",
     "iopub.status.idle": "2022-01-24T15:57:50.970447Z",
     "shell.execute_reply": "2022-01-24T15:57:50.969562Z",
     "shell.execute_reply.started": "2022-01-24T15:57:50.965945Z"
    }
   },
   "outputs": [],
   "source": [
    "# Remove links from text\n",
    "def remove_links(text):\n",
    "    \"\"\"\n",
    "    This function will remove links from the \n",
    "    text contained within the Dataset.\n",
    "       \n",
    "    arguments:\n",
    "        input_text: \"text\" of type \"String\". \n",
    "                    \n",
    "    return:\n",
    "        value: \"text\" with removed links. \n",
    "    \"\"\"\n",
    "    \n",
    "    text = re.sub(r'http\\S+', '', text)\n",
    "    return text"
   ]
  },
  {
   "cell_type": "code",
   "execution_count": 16,
   "metadata": {
    "execution": {
     "iopub.execute_input": "2022-01-24T15:57:52.962255Z",
     "iopub.status.busy": "2022-01-24T15:57:52.96144Z",
     "iopub.status.idle": "2022-01-24T15:57:52.967142Z",
     "shell.execute_reply": "2022-01-24T15:57:52.966193Z",
     "shell.execute_reply.started": "2022-01-24T15:57:52.962211Z"
    }
   },
   "outputs": [],
   "source": [
    "# Remove accented characters\n",
    "def accented_characters_removal(text):\n",
    "    \"\"\"\n",
    "    This function will remove accented characters from the \n",
    "    text contained within the Dataset.\n",
    "       \n",
    "    arguments:\n",
    "        input_text: \"text\" of type \"String\". \n",
    "                    \n",
    "    return:\n",
    "        value: \"text\" with removed accented characters.  \n",
    "    \"\"\"\n",
    "    \n",
    "    # Unidecode() - It takes unicode data & tries to represent it to ASCII characters. \n",
    "    text = unidecode.unidecode(text) \n",
    "    \n",
    "    return text"
   ]
  },
  {
   "cell_type": "code",
   "execution_count": 17,
   "metadata": {
    "execution": {
     "iopub.execute_input": "2022-01-24T15:57:53.835294Z",
     "iopub.status.busy": "2022-01-24T15:57:53.834476Z",
     "iopub.status.idle": "2022-01-24T15:57:53.841959Z",
     "shell.execute_reply": "2022-01-24T15:57:53.840817Z",
     "shell.execute_reply.started": "2022-01-24T15:57:53.83525Z"
    }
   },
   "outputs": [],
   "source": [
    "# Remove repeated characters and punctuations\n",
    "def reducing_incorrect_character_repeatation(text):\n",
    "    \"\"\"\n",
    "    This Function will reduce repeatition to two characters \n",
    "    for alphabets and to one character for punctuations.\n",
    "    \n",
    "    arguments:\n",
    "         input_text: \"text\" of type \"String\".\n",
    "         \n",
    "    return:\n",
    "        value: Finally formatted text with alphabets repeating to \n",
    "        two characters & punctuations limited to one repeatition \n",
    "    \"\"\"\n",
    "    \n",
    "    # Pattern matching for all case alphabets\n",
    "    Pattern_alpha = re.compile(r\"([A-Za-z])\\1{1,}\", re.DOTALL)\n",
    "    \n",
    "    # Limiting all the  repeatation to two characters.\n",
    "    Formatted_text = Pattern_alpha.sub(r\"\\1\\1\", text) \n",
    "    \n",
    "    # Pattern matching for all the punctuations that can occur\n",
    "    Pattern_Punct = re.compile(r'([.,/#!$%^&*?;:{}=_`~()+-])\\1{1,}')\n",
    "    \n",
    "    # Limiting punctuations in previously formatted string to only one.\n",
    "    Combined_Formatted = Pattern_Punct.sub(r'\\1', Formatted_text)\n",
    "    \n",
    "    # The below statement is replacing repeatation of spaces that occur more than two times with that of one occurrence.\n",
    "    Final_Formatted = re.sub(' {2,}',' ', Combined_Formatted)\n",
    "    \n",
    "    return Final_Formatted"
   ]
  },
  {
   "cell_type": "code",
   "execution_count": 18,
   "metadata": {
    "execution": {
     "iopub.execute_input": "2022-01-24T15:57:54.402345Z",
     "iopub.status.busy": "2022-01-24T15:57:54.40207Z",
     "iopub.status.idle": "2022-01-24T15:57:54.407988Z",
     "shell.execute_reply": "2022-01-24T15:57:54.406891Z",
     "shell.execute_reply.started": "2022-01-24T15:57:54.402316Z"
    }
   },
   "outputs": [],
   "source": [
    "# Expand contraction words\n",
    "def expand_contractions(text):\n",
    "    \"\"\"\n",
    "    This Function will expands contractions in words.\n",
    "    \n",
    "    arguments:\n",
    "         input_text: \"text\" of type \"String\".\n",
    "         \n",
    "    return:\n",
    "        value: \"text\" with expanded contractions .  \n",
    "    \"\"\"\n",
    "    \n",
    "    # creating an empty list\n",
    "    expanded_words = []    \n",
    "    for word in text.split():\n",
    "      # using contractions.fix to expand the shotened words\n",
    "      expanded_words.append(contractions.fix(word)) \n",
    "    \n",
    "    String_Of_tokens = ' '.join(expanded_words)\n",
    "    \n",
    "    return String_Of_tokens"
   ]
  },
  {
   "cell_type": "code",
   "execution_count": 19,
   "metadata": {
    "execution": {
     "iopub.execute_input": "2022-01-24T15:57:56.79268Z",
     "iopub.status.busy": "2022-01-24T15:57:56.792225Z",
     "iopub.status.idle": "2022-01-24T15:57:56.798138Z",
     "shell.execute_reply": "2022-01-24T15:57:56.797097Z",
     "shell.execute_reply.started": "2022-01-24T15:57:56.792646Z"
    }
   },
   "outputs": [],
   "source": [
    "# Remove special characters\n",
    "def removing_special_characters(text):\n",
    "    \"\"\"\n",
    "    This Function will remove special characters (including punctualization).\n",
    "    \n",
    "    arguments:\n",
    "         input_text: \"text\" of type \"String\".\n",
    "         \n",
    "    return:\n",
    "        value: \"text\" with special characters removed.  \n",
    "    \"\"\"\n",
    "    \n",
    "    pattern = r\"[^a-zA-Z]\"\n",
    "    text = re.sub(pattern,' ', text)\n",
    "    \n",
    "    return text"
   ]
  },
  {
   "cell_type": "code",
   "execution_count": 33,
   "metadata": {},
   "outputs": [],
   "source": [
    "port_stemmer = PorterStemmer() # Creating the stemmer\n",
    "\n",
    "# Apply Stemming, remove stopwords, remove meaninglessWords\n",
    "def stemming_stopwords_meaninglessWords(text):\n",
    "    \"\"\"\n",
    "    This Function will remove meaningless words, stopwords and apply stemming.\n",
    "    \n",
    "    arguments:\n",
    "         input_text: \"text\" of type \"String\".\n",
    "         \n",
    "    return:\n",
    "        value: \"text\" with meaningless and stopwords removed, stemming applied. \n",
    "    \"\"\"\n",
    "\n",
    "    tokens = word_tokenize(text) # Tokenizing the text \n",
    "    \n",
    "    text_1 = ' '.join([\n",
    "        port_stemmer.stem(token) for token in tokens if token not in stop and singularize(token) in words])\n",
    "    \n",
    "    text_2 = ' '.join([\n",
    "        singularize(token) for token in tokens if token not in stop and singularize(token) in words\n",
    "        ]) \n",
    "        \n",
    "    return text_1, text_2"
   ]
  },
  {
   "cell_type": "code",
   "execution_count": 29,
   "metadata": {},
   "outputs": [],
   "source": [
    "# Text cleaning\n",
    "\n",
    "def text_clean(text):\n",
    "    \n",
    "    text = text.lower()\n",
    "    \n",
    "    text = remove_links(text)\n",
    "    \n",
    "    text = expand_contractions(text)\n",
    "    \n",
    "    text = accented_characters_removal(text)\n",
    "    \n",
    "    text = removing_special_characters(text)\n",
    "\n",
    "    text = reducing_incorrect_character_repeatation(text)\n",
    "    \n",
    "    text_1, text_2 = stemming_stopwords_meaninglessWords(text)\n",
    "    \n",
    "    return text_1, text_2"
   ]
  },
  {
   "cell_type": "code",
   "execution_count": 152,
   "metadata": {},
   "outputs": [
    {
     "name": "stdout",
     "output_type": "stream",
     "text": [
      "--- Initial text example ---\n",
      "http://google.com this IS treee okk test fòr text cleaning, isn't it  dsiadohaspidnpas anomalies ? \n",
      "\n",
      "--- Lower function ---\n",
      "http://google.com this is treee okk test fòr text cleaning, isn't it  dsiadohaspidnpas anomalies ? \n",
      "\n",
      "--- Remove_Links function ---\n",
      " this is treee okk test fòr text cleaning, isn't it  dsiadohaspidnpas anomalies ? \n",
      "\n",
      "--- Remove_Links function ---\n",
      "this is treee okk test fòr text cleaning, is not it dsiadohaspidnpas anomalies ? \n",
      "\n",
      "--- Remove_Accented_Characters function ---\n",
      "this is treee okk test for text cleaning, is not it dsiadohaspidnpas anomalies ? \n",
      "\n",
      "--- Remove_Special_Characters function ---\n",
      "this is treee okk test for text cleaning  is not it dsiadohaspidnpas anomalies   \n",
      "\n",
      "--- Reduce_Incorrect_Character_Repeatation function ---\n",
      "this is tree okk test for text cleaning is not it dsiadohaspidnpas anomalies  \n",
      "\n",
      "--- Remove stopwords_meaningLessWord and apply stemming function ---\n",
      "tree test text clean anomali \n",
      "\n",
      "--- Remove stopwords_meaningLessWord function -> Don't apply stemming ---\n",
      "tree test text cleaning anomaly \n",
      "\n"
     ]
    }
   ],
   "source": [
    "# Example of text cleaning\n",
    "\n",
    "example_text = \"http://google.com this IS treee okk test fòr text cleaning, isn't it  dsiadohaspidnpas anomalies ?\"\n",
    "\n",
    "print(\"--- Initial text example ---\")\n",
    "print(example_text,\"\\n\")\n",
    "\n",
    "print(\"--- Lower function ---\")\n",
    "example_text = example_text.lower()\n",
    "print(example_text,\"\\n\")\n",
    "\n",
    "print(\"--- Remove_Links function ---\")\n",
    "example_text = remove_links(example_text)\n",
    "print(example_text,\"\\n\")\n",
    "\n",
    "print(\"--- Remove_Links function ---\")\n",
    "example_text = expand_contractions(example_text)\n",
    "print(example_text,\"\\n\")\n",
    "\n",
    "print(\"--- Remove_Accented_Characters function ---\")\n",
    "example_text = accented_characters_removal(example_text)\n",
    "print(example_text,\"\\n\")\n",
    "\n",
    "print(\"--- Remove_Special_Characters function ---\")\n",
    "example_text = removing_special_characters(example_text)\n",
    "print(example_text,\"\\n\")\n",
    "\n",
    "print(\"--- Reduce_Incorrect_Character_Repeatation function ---\")\n",
    "example_text = reducing_incorrect_character_repeatation(example_text)\n",
    "print(example_text,\"\\n\")\n",
    "\n",
    "example_text_1, example_text_2 = stemming_stopwords_meaninglessWords(example_text)\n",
    "\n",
    "print(\"--- Remove stopwords_meaningLessWord and apply stemming function ---\")\n",
    "print(example_text_1,\"\\n\")\n",
    "\n",
    "print(\"--- Remove stopwords_meaningLessWord function -> Don't apply stemming ---\")\n",
    "print(example_text_2,\"\\n\")"
   ]
  },
  {
   "cell_type": "code",
   "execution_count": 30,
   "metadata": {
    "execution": {
     "iopub.execute_input": "2022-01-24T15:59:18.242522Z",
     "iopub.status.busy": "2022-01-24T15:59:18.24183Z",
     "iopub.status.idle": "2022-01-24T16:19:49.621669Z",
     "shell.execute_reply": "2022-01-24T16:19:49.620249Z",
     "shell.execute_reply.started": "2022-01-24T15:59:18.242483Z"
    }
   },
   "outputs": [
    {
     "name": "stdout",
     "output_type": "stream",
     "text": [
      "CPU times: user 1.85 s, sys: 2.73 s, total: 4.57 s\n",
      "Wall time: 23min 52s\n"
     ]
    }
   ],
   "source": [
    "%%time\n",
    "df_reviews_dataset['cleaned_review_stemming'], df_reviews_dataset['cleaned_review'] = zip(*df_reviews_dataset.review_text.parallel_apply(text_clean))"
   ]
  },
  {
   "cell_type": "markdown",
   "metadata": {},
   "source": [
    "After applying the text clean to the reviews, we could have some reviews that are NaN due to the fact that we remove meaningless words. \n",
    "We detect these reviews and we remove from dataset (they are considerated as NaN and not as empty string)."
   ]
  },
  {
   "cell_type": "code",
   "execution_count": 31,
   "metadata": {},
   "outputs": [
    {
     "data": {
      "text/plain": [
       "review_date                0\n",
       "movie_id                   0\n",
       "user_id                    0\n",
       "is_spoiler                 0\n",
       "review_text                0\n",
       "rating                     0\n",
       "review_summary             0\n",
       "cleaned_review_stemming    0\n",
       "cleaned_review             0\n",
       "dtype: int64"
      ]
     },
     "execution_count": 31,
     "metadata": {},
     "output_type": "execute_result"
    }
   ],
   "source": [
    "df_reviews_dataset.isna().sum() "
   ]
  },
  {
   "cell_type": "code",
   "execution_count": 32,
   "metadata": {},
   "outputs": [],
   "source": [
    "df_reviews_dataset = df_reviews_dataset.dropna()"
   ]
  },
  {
   "cell_type": "markdown",
   "metadata": {},
   "source": [
    "## Handle dates \n",
    "We decided to consider the reviews before 2008 as old. \\\n",
    "After that, we toke the last year review (Jan 2017) to build a test set to simulate how the application works with newer reviews. \\\n",
    "We built the training set with the reviews that are beetween 2008 and 2016."
   ]
  },
  {
   "cell_type": "markdown",
   "metadata": {},
   "source": [
    "We changed the review_dates format to \"Y-m-d\""
   ]
  },
  {
   "cell_type": "code",
   "execution_count": 35,
   "metadata": {},
   "outputs": [],
   "source": [
    "df_reviews_dataset['review_date'] = pd.to_datetime(df_reviews_dataset['review_date'],format='%d %B %Y')"
   ]
  },
  {
   "cell_type": "code",
   "execution_count": 36,
   "metadata": {
    "execution": {
     "iopub.execute_input": "2022-01-24T16:21:16.994428Z",
     "iopub.status.busy": "2022-01-24T16:21:16.99404Z",
     "iopub.status.idle": "2022-01-24T16:21:17.016874Z",
     "shell.execute_reply": "2022-01-24T16:21:17.015897Z",
     "shell.execute_reply.started": "2022-01-24T16:21:16.994388Z"
    }
   },
   "outputs": [
    {
     "data": {
      "text/html": [
       "<div>\n",
       "<style scoped>\n",
       "    .dataframe tbody tr th:only-of-type {\n",
       "        vertical-align: middle;\n",
       "    }\n",
       "\n",
       "    .dataframe tbody tr th {\n",
       "        vertical-align: top;\n",
       "    }\n",
       "\n",
       "    .dataframe thead th {\n",
       "        text-align: right;\n",
       "    }\n",
       "</style>\n",
       "<table border=\"1\" class=\"dataframe\">\n",
       "  <thead>\n",
       "    <tr style=\"text-align: right;\">\n",
       "      <th></th>\n",
       "      <th>review_date</th>\n",
       "      <th>movie_id</th>\n",
       "      <th>user_id</th>\n",
       "      <th>is_spoiler</th>\n",
       "      <th>review_text</th>\n",
       "      <th>rating</th>\n",
       "      <th>review_summary</th>\n",
       "      <th>cleaned_review_stemming</th>\n",
       "      <th>cleaned_review</th>\n",
       "    </tr>\n",
       "  </thead>\n",
       "  <tbody>\n",
       "    <tr>\n",
       "      <th>0</th>\n",
       "      <td>2006-02-10</td>\n",
       "      <td>tt0111161</td>\n",
       "      <td>ur1898687</td>\n",
       "      <td>True</td>\n",
       "      <td>In its Oscar year, Shawshank Redemption (writt...</td>\n",
       "      <td>10</td>\n",
       "      <td>A classic piece of unforgettable film-making.</td>\n",
       "      <td>year redempt written direct frank novella rede...</td>\n",
       "      <td>year redemption written directed frank novella...</td>\n",
       "    </tr>\n",
       "    <tr>\n",
       "      <th>1</th>\n",
       "      <td>2000-09-06</td>\n",
       "      <td>tt0111161</td>\n",
       "      <td>ur0842118</td>\n",
       "      <td>True</td>\n",
       "      <td>The Shawshank Redemption is without a doubt on...</td>\n",
       "      <td>10</td>\n",
       "      <td>Simply amazing. The best film of the 90's.</td>\n",
       "      <td>redempt without doubt one brilliant movi ever ...</td>\n",
       "      <td>redemption without doubt one brilliant movie e...</td>\n",
       "    </tr>\n",
       "    <tr>\n",
       "      <th>2</th>\n",
       "      <td>2001-08-03</td>\n",
       "      <td>tt0111161</td>\n",
       "      <td>ur1285640</td>\n",
       "      <td>True</td>\n",
       "      <td>I believe that this film is the best story eve...</td>\n",
       "      <td>8</td>\n",
       "      <td>The best story ever told on film</td>\n",
       "      <td>believ film best stori ever told film tell rob...</td>\n",
       "      <td>believe film best story ever told film tell ro...</td>\n",
       "    </tr>\n",
       "    <tr>\n",
       "      <th>3</th>\n",
       "      <td>2002-09-01</td>\n",
       "      <td>tt0111161</td>\n",
       "      <td>ur1003471</td>\n",
       "      <td>True</td>\n",
       "      <td>**Yes, there are SPOILERS here**This film has ...</td>\n",
       "      <td>10</td>\n",
       "      <td>Busy dying or busy living?</td>\n",
       "      <td>ye spoiler film emot impact find hard write co...</td>\n",
       "      <td>ye spoiler film emotional impact find hard wri...</td>\n",
       "    </tr>\n",
       "    <tr>\n",
       "      <th>4</th>\n",
       "      <td>2004-05-20</td>\n",
       "      <td>tt0111161</td>\n",
       "      <td>ur0226855</td>\n",
       "      <td>True</td>\n",
       "      <td>At the heart of this extraordinary movie is a ...</td>\n",
       "      <td>8</td>\n",
       "      <td>Great story, wondrously told and acted</td>\n",
       "      <td>heart extraordinari movi brilliant indel perfo...</td>\n",
       "      <td>heart extraordinary movie brilliant indelible ...</td>\n",
       "    </tr>\n",
       "  </tbody>\n",
       "</table>\n",
       "</div>"
      ],
      "text/plain": [
       "  review_date   movie_id    user_id  is_spoiler  \\\n",
       "0  2006-02-10  tt0111161  ur1898687        True   \n",
       "1  2000-09-06  tt0111161  ur0842118        True   \n",
       "2  2001-08-03  tt0111161  ur1285640        True   \n",
       "3  2002-09-01  tt0111161  ur1003471        True   \n",
       "4  2004-05-20  tt0111161  ur0226855        True   \n",
       "\n",
       "                                         review_text  rating  \\\n",
       "0  In its Oscar year, Shawshank Redemption (writt...      10   \n",
       "1  The Shawshank Redemption is without a doubt on...      10   \n",
       "2  I believe that this film is the best story eve...       8   \n",
       "3  **Yes, there are SPOILERS here**This film has ...      10   \n",
       "4  At the heart of this extraordinary movie is a ...       8   \n",
       "\n",
       "                                  review_summary  \\\n",
       "0  A classic piece of unforgettable film-making.   \n",
       "1     Simply amazing. The best film of the 90's.   \n",
       "2               The best story ever told on film   \n",
       "3                     Busy dying or busy living?   \n",
       "4         Great story, wondrously told and acted   \n",
       "\n",
       "                             cleaned_review_stemming  \\\n",
       "0  year redempt written direct frank novella rede...   \n",
       "1  redempt without doubt one brilliant movi ever ...   \n",
       "2  believ film best stori ever told film tell rob...   \n",
       "3  ye spoiler film emot impact find hard write co...   \n",
       "4  heart extraordinari movi brilliant indel perfo...   \n",
       "\n",
       "                                      cleaned_review  \n",
       "0  year redemption written directed frank novella...  \n",
       "1  redemption without doubt one brilliant movie e...  \n",
       "2  believe film best story ever told film tell ro...  \n",
       "3  ye spoiler film emotional impact find hard wri...  \n",
       "4  heart extraordinary movie brilliant indelible ...  "
      ]
     },
     "execution_count": 36,
     "metadata": {},
     "output_type": "execute_result"
    }
   ],
   "source": [
    "df_reviews_dataset.head()"
   ]
  },
  {
   "cell_type": "markdown",
   "metadata": {},
   "source": [
    "We built the training set with the reviews that are beetween 2008 and 2016."
   ]
  },
  {
   "cell_type": "code",
   "execution_count": 37,
   "metadata": {},
   "outputs": [
    {
     "name": "stdout",
     "output_type": "stream",
     "text": [
      "Train set shape: (288351, 5)\n",
      "Min date: 2008-01-01 00:00:00\n",
      "Max date: 2016-12-31 00:00:00\n"
     ]
    }
   ],
   "source": [
    "# TRAIN SET EXCLUDING DATES < 2008 (TOO OLD) AND > 2016 (USED TO TEST)\n",
    "\n",
    "train_set = df_reviews_dataset.loc[(df_reviews_dataset['review_date'] < '2017-01-01')\n",
    "                     & (df_reviews_dataset['review_date'] > '2007-12-31')]\n",
    "\n",
    "train_set = train_set.drop(['movie_id', 'user_id','rating', 'review_summary'],axis=1)\n",
    "\n",
    "print(\"Train set shape: \" + str(train_set.shape))\n",
    "print(\"Min date: \" + str(train_set['review_date'].min()))\n",
    "print(\"Max date: \" + str(train_set['review_date'].max()))"
   ]
  },
  {
   "cell_type": "markdown",
   "metadata": {},
   "source": [
    "We built the test set with the review that are in the last year (2017)"
   ]
  },
  {
   "cell_type": "code",
   "execution_count": 38,
   "metadata": {},
   "outputs": [
    {
     "name": "stdout",
     "output_type": "stream",
     "text": [
      "Test set shape: (45103, 5)\n",
      "Min date: 2017-01-01 00:00:00\n",
      "Max date: 2017-12-31 00:00:00\n"
     ]
    }
   ],
   "source": [
    "# TEST SET CONTAINING DATES > 2016\n",
    "\n",
    "test_set = df_reviews_dataset.loc[(df_reviews_dataset['review_date'] >= '2017-01-01') \n",
    "                     & (df_reviews_dataset['review_date'] < '2018-01-01')]\n",
    "\n",
    "test_set = test_set.drop(['movie_id', 'user_id','rating', 'review_summary'],axis=1)\n",
    "\n",
    "print(\"Test set shape: \" + str(test_set.shape))\n",
    "print(\"Min date: \" + str(test_set['review_date'].min()))\n",
    "print(\"Max date: \" + str(test_set['review_date'].max()))"
   ]
  },
  {
   "cell_type": "markdown",
   "metadata": {},
   "source": [
    "We saved the training and test set."
   ]
  },
  {
   "cell_type": "code",
   "execution_count": 39,
   "metadata": {
    "execution": {
     "iopub.execute_input": "2022-01-24T16:23:31.563018Z",
     "iopub.status.busy": "2022-01-24T16:23:31.562664Z",
     "iopub.status.idle": "2022-01-24T16:24:05.871129Z",
     "shell.execute_reply": "2022-01-24T16:24:05.870283Z",
     "shell.execute_reply.started": "2022-01-24T16:23:31.562983Z"
    }
   },
   "outputs": [],
   "source": [
    "train_set.to_csv('train_set.csv',index=False)"
   ]
  },
  {
   "cell_type": "code",
   "execution_count": 40,
   "metadata": {},
   "outputs": [],
   "source": [
    "test_set.to_csv('test_set.csv',index=False)"
   ]
  },
  {
   "cell_type": "markdown",
   "metadata": {},
   "source": [
    "*** "
   ]
  },
  {
   "cell_type": "code",
   "execution_count": 41,
   "metadata": {
    "execution": {
     "iopub.execute_input": "2022-01-24T16:24:05.873634Z",
     "iopub.status.busy": "2022-01-24T16:24:05.873091Z",
     "iopub.status.idle": "2022-01-24T16:24:08.562578Z",
     "shell.execute_reply": "2022-01-24T16:24:08.561539Z",
     "shell.execute_reply.started": "2022-01-24T16:24:05.873585Z"
    }
   },
   "outputs": [],
   "source": [
    "df = pd.read_csv('./train_set.csv')"
   ]
  },
  {
   "cell_type": "code",
   "execution_count": 42,
   "metadata": {},
   "outputs": [
    {
     "data": {
      "text/plain": [
       "(288351, 5)"
      ]
     },
     "execution_count": 42,
     "metadata": {},
     "output_type": "execute_result"
    }
   ],
   "source": [
    "df.shape"
   ]
  },
  {
   "cell_type": "markdown",
   "metadata": {},
   "source": [
    "Divide the dataset in X and y, we load the dataset with stemming to check if the stemming is useful to improve the model measures. "
   ]
  },
  {
   "cell_type": "code",
   "execution_count": 43,
   "metadata": {},
   "outputs": [],
   "source": [
    "X = df.cleaned_review\n",
    "X_stemming = df.cleaned_review_stemming\n",
    "y = df.is_spoiler"
   ]
  },
  {
   "cell_type": "markdown",
   "metadata": {},
   "source": [
    "# **MODEL EVALUTATION & SELECTION**"
   ]
  },
  {
   "cell_type": "markdown",
   "metadata": {},
   "source": [
    "In this section we have performed all the operation needed to evalute and select the model.\n",
    "As the task is a binary classification problem, we have analyzed the performances of three types of classification models:\n",
    "- Naive Bayes Multinomial \n",
    "- Support Vector Machine\n",
    "- Logistic Regression \n",
    "\n",
    "To do these operations and handle the dataset distribution we have used the sklean and imblearn libraries. \\\n",
    "We have performed the K-cross validation to evalute the model and select it."
   ]
  },
  {
   "cell_type": "code",
   "execution_count": 44,
   "metadata": {},
   "outputs": [],
   "source": [
    "from imblearn.pipeline import Pipeline, make_pipeline\n",
    "from imblearn.under_sampling import RandomUnderSampler\n",
    "\n",
    "from sklearn.feature_extraction.text import TfidfVectorizer\n",
    "from sklearn.metrics import make_scorer, accuracy_score, precision_score, recall_score, f1_score\n",
    "\n",
    "from sklearn.model_selection import cross_validate\n",
    "\n",
    "from sklearn.naive_bayes import MultinomialNB\n",
    "from sklearn.svm import LinearSVC\n",
    "from sklearn.linear_model import LogisticRegression"
   ]
  },
  {
   "cell_type": "markdown",
   "metadata": {},
   "source": [
    "### Functions to apply cross-validation and to monitor the classifier measures"
   ]
  },
  {
   "cell_type": "code",
   "execution_count": 45,
   "metadata": {},
   "outputs": [],
   "source": [
    "def print_kfold_scores(scores):\n",
    "    print(\"Accuracy = \", scores['test_accuracy'])\n",
    "    print(\"\")\n",
    "    print(\"Precision = \", scores['test_precision'])\n",
    "    print(\"\")\n",
    "    print(\"Recall = \", scores['test_recall'])\n",
    "    print(\"\")\n",
    "    print(\"F1 score = \", scores['test_f1_score'])\n",
    "    print(\"\")\n",
    "    print(\"fit_time (s) = \", scores['fit_time'])\n",
    "    print(\"\")\n",
    "    print(\"score_time (s) = \", scores['score_time'])"
   ]
  },
  {
   "cell_type": "code",
   "execution_count": 46,
   "metadata": {},
   "outputs": [],
   "source": [
    "def print_cross_validation(score, stemming):\n",
    "    if stemming:\n",
    "        print(\"--------------    K-FOLD WITH STEMMING    --------------\\n\")\n",
    "        print_kfold_scores(score)\n",
    "    else:\n",
    "        print(\"--------------    K-FOLD WITHOUT STEMMING    --------------\\n\")\n",
    "        print_kfold_scores(score)"
   ]
  },
  {
   "cell_type": "code",
   "execution_count": 47,
   "metadata": {},
   "outputs": [],
   "source": [
    "scoring = {\n",
    "    'accuracy' : make_scorer(accuracy_score), \n",
    "    'precision' : make_scorer(precision_score),\n",
    "    'recall' : make_scorer(recall_score), \n",
    "    'f1_score' : make_scorer(f1_score)\n",
    "}"
   ]
  },
  {
   "cell_type": "code",
   "execution_count": 48,
   "metadata": {},
   "outputs": [],
   "source": [
    "from sklearn.model_selection import StratifiedKFold\n",
    "\n",
    "n_folds = 10\n",
    "skf = StratifiedKFold(n_folds)"
   ]
  },
  {
   "cell_type": "code",
   "execution_count": 49,
   "metadata": {},
   "outputs": [],
   "source": [
    "def apply_cross_validation(clf, X, y, ngrams = (1,1), sampling_ratio = -1, n_jobs = 5, stemming = False):\n",
    "    '''\n",
    "    \n",
    "    '''\n",
    "    \n",
    "    if sampling_ratio == -1: \n",
    "        clf_pipeline = Pipeline([\n",
    "            ('vect', TfidfVectorizer(ngram_range=ngrams)),\n",
    "            ('clf', clf)\n",
    "        ])\n",
    "    else:\n",
    "        clf_pipeline = Pipeline([\n",
    "            ('vect', TfidfVectorizer(ngram_range=ngrams)),\n",
    "            ('rus', RandomUnderSampler(sampling_strategy=sampling_ratio)),\n",
    "            ('clf', clf)\n",
    "        ])\n",
    "    \n",
    "    score = cross_validate(clf_pipeline, X, y, cv = skf, scoring=scoring, n_jobs = n_jobs)\n",
    "    \n",
    "    print_cross_validation(score, stemming)\n",
    "    \n",
    "    return clf_pipeline, score"
   ]
  },
  {
   "cell_type": "markdown",
   "metadata": {},
   "source": [
    "## COMPARE MODELS USING DATASET DISTRIBUTION\n",
    "We have applied the cross-validation with imbalanced-distribution to compare how classifier works on the general dataset and decide which models analyze in more details."
   ]
  },
  {
   "cell_type": "markdown",
   "metadata": {},
   "source": [
    "#### MULTINOMIAL"
   ]
  },
  {
   "cell_type": "code",
   "execution_count": 50,
   "metadata": {},
   "outputs": [
    {
     "name": "stdout",
     "output_type": "stream",
     "text": [
      "--------------    K-FOLD WITHOUT STEMMING    --------------\n",
      "\n",
      "Accuracy =  [0.6828617  0.67834229 0.67473556 0.67352176 0.68742847 0.68347494\n",
      " 0.67331368 0.6825039  0.68396046 0.68184498]\n",
      "\n",
      "Precision =  [0.68571429 0.60056391 0.59152542 0.57806591 0.65225066 0.64271556\n",
      " 0.56230735 0.6355094  0.62938596 0.58410175]\n",
      "\n",
      "Recall =  [0.1063479  0.13171184 0.10790477 0.11027517 0.15232402 0.13367\n",
      " 0.13160878 0.13243327 0.1478924  0.18932289]\n",
      "\n",
      "F1 score =  [0.18413775 0.2160426  0.18251547 0.18521724 0.24697134 0.22131217\n",
      " 0.21329547 0.21918977 0.23950597 0.2859589 ]\n",
      "\n",
      "fit_time (s) =  [21.51628208 21.30075312 22.73855805 20.57351708 21.44078112 20.71491385\n",
      " 20.72160101 20.53491807 20.2851603  21.23603797]\n",
      "\n",
      "score_time (s) =  [2.48237991 2.51442289 2.60353303 2.48535085 2.40484405 2.44089103\n",
      " 2.49140191 2.34615421 2.37836289 2.2806251 ]\n"
     ]
    }
   ],
   "source": [
    "# Apply cross-validation\n",
    "clf_pipeline, score = apply_cross_validation(MultinomialNB(), X, y) \n",
    "\n",
    "# Register average precision and recall\n",
    "avg_multinomial_precision = statistics.mean(score['test_precision'])\n",
    "avg_multinomial_recall = statistics.mean(score['test_recall'])"
   ]
  },
  {
   "cell_type": "markdown",
   "metadata": {},
   "source": [
    "#### SVM"
   ]
  },
  {
   "cell_type": "code",
   "execution_count": 51,
   "metadata": {},
   "outputs": [
    {
     "name": "stderr",
     "output_type": "stream",
     "text": [
      "/Users/badnick/.local/lib/python3.9/site-packages/joblib/externals/loky/process_executor.py:702: UserWarning: A worker stopped while some jobs were given to the executor. This can be caused by a too short worker timeout or by a memory leak.\n",
      "  warnings.warn(\n"
     ]
    },
    {
     "name": "stdout",
     "output_type": "stream",
     "text": [
      "--------------    K-FOLD WITHOUT STEMMING    --------------\n",
      "\n",
      "Accuracy =  [0.69923013 0.68559043 0.6811167  0.67581065 0.69124328 0.69450321\n",
      " 0.68531299 0.69079244 0.69810994 0.6912086 ]\n",
      "\n",
      "Precision =  [0.60544079 0.55494221 0.54128739 0.5298169  0.55810575 0.57308698\n",
      " 0.54811075 0.56247023 0.5724238  0.55678749]\n",
      "\n",
      "Recall =  [0.30502885 0.33154694 0.34319283 0.32505411 0.39596001 0.36122849\n",
      " 0.36926724 0.3651448  0.40647223 0.40368958]\n",
      "\n",
      "F1 score =  [0.40567395 0.41509677 0.42005676 0.40291262 0.46325436 0.443138\n",
      " 0.44125616 0.44281965 0.47538118 0.4680368 ]\n",
      "\n",
      "fit_time (s) =  [33.05004597 33.62742186 33.10949397 32.43380499 33.11764383 30.45296979\n",
      " 31.49344993 30.64688706 31.07185388 31.32877183]\n",
      "\n",
      "score_time (s) =  [2.34002805 2.39021516 2.38464928 2.42002892 2.260849   2.51176095\n",
      " 2.31016898 2.17345285 2.12506509 2.10966611]\n"
     ]
    }
   ],
   "source": [
    "# Apply cross-validation\n",
    "clf_pipeline, score = apply_cross_validation(LinearSVC(), X, y)\n",
    "\n",
    "# Register average precision and recall\n",
    "avg_svm_precision = statistics.mean(score['test_precision'])\n",
    "avg_svm_recall = statistics.mean(score['test_recall'])"
   ]
  },
  {
   "cell_type": "markdown",
   "metadata": {},
   "source": [
    "#### LOGISTIC"
   ]
  },
  {
   "cell_type": "code",
   "execution_count": 52,
   "metadata": {},
   "outputs": [
    {
     "name": "stdout",
     "output_type": "stream",
     "text": [
      "--------------    K-FOLD WITHOUT STEMMING    --------------\n",
      "\n",
      "Accuracy =  [0.70574976 0.69706953 0.69169412 0.68937056 0.7018207  0.708618\n",
      " 0.70074562 0.70341599 0.70837524 0.6999133 ]\n",
      "\n",
      "Precision =  [0.64337803 0.59546351 0.57515252 0.56844037 0.58774019 0.62044066\n",
      " 0.59470899 0.60184038 0.60469256 0.58473209]\n",
      "\n",
      "Recall =  [0.28184254 0.31114088 0.32062249 0.3192827  0.38142842 0.34535711\n",
      " 0.34752139 0.35051015 0.38513862 0.37338967]\n",
      "\n",
      "F1 score =  [0.3919742  0.40871861 0.41172578 0.40889593 0.462625   0.44372352\n",
      " 0.43869121 0.44301159 0.47056601 0.45575193]\n",
      "\n",
      "fit_time (s) =  [37.48450112 42.12770414 39.49674177 35.78813696 38.49814987 40.08880687\n",
      " 43.03963184 41.03038716 39.96378493 38.02161789]\n",
      "\n",
      "score_time (s) =  [2.35058975 2.08560586 2.23217821 2.54311395 2.27601409 2.75543594\n",
      " 2.29242706 2.2614727  2.25478101 2.31280303]\n"
     ]
    }
   ],
   "source": [
    "# Apply cross-validation\n",
    "clf_pipeline, score = apply_cross_validation(LogisticRegression(max_iter=10000), X, y)\n",
    "\n",
    "# Register average precision and recall\n",
    "avg_logistic_precision = statistics.mean(score['test_precision'])\n",
    "avg_logistic_recall = statistics.mean(score['test_recall'])"
   ]
  },
  {
   "cell_type": "markdown",
   "metadata": {},
   "source": [
    "***"
   ]
  },
  {
   "cell_type": "code",
   "execution_count": 53,
   "metadata": {},
   "outputs": [
    {
     "data": {
      "text/html": [
       "<div>\n",
       "<style scoped>\n",
       "    .dataframe tbody tr th:only-of-type {\n",
       "        vertical-align: middle;\n",
       "    }\n",
       "\n",
       "    .dataframe tbody tr th {\n",
       "        vertical-align: top;\n",
       "    }\n",
       "\n",
       "    .dataframe thead th {\n",
       "        text-align: right;\n",
       "    }\n",
       "</style>\n",
       "<table border=\"1\" class=\"dataframe\">\n",
       "  <thead>\n",
       "    <tr style=\"text-align: right;\">\n",
       "      <th></th>\n",
       "      <th>AVG_Precision</th>\n",
       "      <th>AVG_Recall</th>\n",
       "    </tr>\n",
       "  </thead>\n",
       "  <tbody>\n",
       "    <tr>\n",
       "      <th>Multinomial</th>\n",
       "      <td>0.616214</td>\n",
       "      <td>0.134349</td>\n",
       "    </tr>\n",
       "    <tr>\n",
       "      <th>SVM</th>\n",
       "      <td>0.560247</td>\n",
       "      <td>0.360659</td>\n",
       "    </tr>\n",
       "    <tr>\n",
       "      <th>Logistic</th>\n",
       "      <td>0.597659</td>\n",
       "      <td>0.341623</td>\n",
       "    </tr>\n",
       "  </tbody>\n",
       "</table>\n",
       "</div>"
      ],
      "text/plain": [
       "             AVG_Precision  AVG_Recall\n",
       "Multinomial       0.616214    0.134349\n",
       "SVM               0.560247    0.360659\n",
       "Logistic          0.597659    0.341623"
      ]
     },
     "execution_count": 53,
     "metadata": {},
     "output_type": "execute_result"
    }
   ],
   "source": [
    "pd.DataFrame([\n",
    "    [avg_multinomial_precision, avg_multinomial_recall],\n",
    "    [avg_svm_precision, avg_svm_recall],\n",
    "    [avg_logistic_precision, avg_logistic_recall]\n",
    "], index = ['Multinomial', 'SVM', 'Logistic'], columns=['AVG_Precision', 'AVG_Recall'])"
   ]
  },
  {
   "cell_type": "markdown",
   "metadata": {},
   "source": [
    "#### COMPARE THE MODELS PLOTTING AVG PRECISION-RECALL"
   ]
  },
  {
   "cell_type": "code",
   "execution_count": 54,
   "metadata": {},
   "outputs": [
    {
     "data": {
      "image/png": "[encoded data removed]",
      "text/plain": [
       "<Figure size 432x288 with 1 Axes>"
      ]
     },
     "metadata": {
      "needs_background": "light"
     },
     "output_type": "display_data"
    }
   ],
   "source": [
    "plt.scatter(avg_multinomial_precision, avg_multinomial_recall, color ='blue')\n",
    "plt.scatter(avg_svm_precision, avg_svm_recall, color ='orange')\n",
    "plt.scatter(avg_logistic_precision, avg_logistic_recall, color ='red')\n",
    "labels = [\"multinomial\", \"svm\", \"logistic\"]\n",
    "\n",
    "plt.xlim([0, 1]) \n",
    "plt.ylim([0, 1]) \n",
    "\n",
    "plt.xlabel('precision')\n",
    "plt.ylabel('recall')\n",
    "\n",
    "plt.legend(labels=labels)\n",
    "\n",
    "plt.title('MODEL COMPARISON ON DATASET DISTRIB. MULTINOMIAL/SVM/LOGISTIC \\n')\n",
    "\n",
    "plt.show()"
   ]
  },
  {
   "cell_type": "markdown",
   "metadata": {},
   "source": [
    "As we can see from the plot, the multinomial model works really bad in terms of precision and recall in respect to the other two classifiers. Due to this, we have decided to perform the analysis changing parameters and distribution only to SVM and Logistic models. "
   ]
  },
  {
   "cell_type": "markdown",
   "metadata": {},
   "source": [
    "## COMPARING SVM AND LOGISTIC SCORES "
   ]
  },
  {
   "cell_type": "markdown",
   "metadata": {},
   "source": [
    "In this section we have compared the SVM and Logistic model changing parameters of CountVectorizer and the distribution of the classes. We have also analyzed if the stemming is relevant in terms of increasing the model's performances."
   ]
  },
  {
   "cell_type": "markdown",
   "metadata": {},
   "source": [
    "### SVM"
   ]
  },
  {
   "cell_type": "code",
   "execution_count": 55,
   "metadata": {},
   "outputs": [],
   "source": [
    "from sklearn.svm import LinearSVC\n",
    "svm_pipelines = []\n",
    "svm_scores = []"
   ]
  },
  {
   "cell_type": "markdown",
   "metadata": {},
   "source": [
    "#### Ngram_range (1,1) & Undersampling 50/50"
   ]
  },
  {
   "cell_type": "markdown",
   "metadata": {},
   "source": [
    "##### With stemming"
   ]
  },
  {
   "cell_type": "code",
   "execution_count": 56,
   "metadata": {},
   "outputs": [
    {
     "name": "stderr",
     "output_type": "stream",
     "text": [
      "/Users/badnick/.local/lib/python3.9/site-packages/joblib/externals/loky/process_executor.py:702: UserWarning: A worker stopped while some jobs were given to the executor. This can be caused by a too short worker timeout or by a memory leak.\n",
      "  warnings.warn(\n"
     ]
    },
    {
     "name": "stdout",
     "output_type": "stream",
     "text": [
      "--------------    K-FOLD WITHOUT STEMMING    --------------\n",
      "\n",
      "Accuracy =  [0.65917603 0.636206   0.62510838 0.62483093 0.64397434 0.64799723\n",
      " 0.63329287 0.62989423 0.64158141 0.62892318]\n",
      "\n",
      "Precision =  [0.49406471 0.46617963 0.4548495  0.45470794 0.47787819 0.48149375\n",
      " 0.46585653 0.46190139 0.47581879 0.46302203]\n",
      "\n",
      "Recall =  [0.53184254 0.55900237 0.57466763 0.57683191 0.62671339 0.59929919\n",
      " 0.61238792 0.60537978 0.64083273 0.64330619]\n",
      "\n",
      "F1 score =  [0.51225806 0.50838879 0.50778618 0.5085408  0.54226859 0.53397612\n",
      " 0.52916555 0.52399643 0.54613324 0.53847481]\n",
      "\n",
      "fit_time (s) =  [27.19168091 26.95297098 27.11051106 26.78805232 27.95793581 26.89899707\n",
      " 26.65662813 29.1029489  27.04524803 27.37818098]\n",
      "\n",
      "score_time (s) =  [2.25709701 2.24152493 2.28486204 2.3301599  2.3072021  2.38480306\n",
      " 2.33435988 2.02224207 2.16016626 2.11548185]\n"
     ]
    }
   ],
   "source": [
    "clf_pipeline, score = apply_cross_validation(LinearSVC(), X, y, sampling_ratio = 1)\n",
    "svm_pipelines.append(clf_pipeline)\n",
    "svm_scores.append(score)"
   ]
  },
  {
   "cell_type": "markdown",
   "metadata": {},
   "source": [
    "##### Without stemming"
   ]
  },
  {
   "cell_type": "code",
   "execution_count": 57,
   "metadata": {
    "scrolled": true
   },
   "outputs": [
    {
     "name": "stdout",
     "output_type": "stream",
     "text": [
      "--------------    K-FOLD WITH STEMMING    --------------\n",
      "\n",
      "Accuracy =  [0.67835345 0.65177735 0.64276053 0.6449107  0.65892145 0.66381134\n",
      " 0.6563898  0.6459511  0.65628576 0.64002081]\n",
      "\n",
      "Precision =  [0.52172152 0.48517804 0.47512065 0.47766294 0.49479905 0.50038249\n",
      " 0.4915156  0.4798149  0.49205258 0.47453164]\n",
      "\n",
      "Recall =  [0.53091509 0.57013295 0.58847779 0.59064207 0.64711945 0.60671957\n",
      " 0.61197568 0.61980831 0.66360919 0.65000515]\n",
      "\n",
      "F1 score =  [0.52627816 0.52423596 0.52575848 0.52817842 0.56080025 0.5484442\n",
      " 0.54517077 0.5409003  0.5650972  0.54857789]\n",
      "\n",
      "fit_time (s) =  [27.3630259  26.44796205 27.86967611 28.03690386 25.26797509 25.93936491\n",
      " 25.63213015 26.27264404 22.98347282 25.418504  ]\n",
      "\n",
      "score_time (s) =  [2.16674113 2.22925901 2.19077897 2.24890208 2.25040102 2.23675895\n",
      " 2.25489306 2.03958774 2.26044226 2.06932998]\n"
     ]
    }
   ],
   "source": [
    "clf_pipeline, score = apply_cross_validation(LogisticRegression(max_iter=10000), X_stemming, y, sampling_ratio = 1, stemming = True)\n",
    "svm_pipelines.append(clf_pipeline)\n",
    "svm_scores.append(score)"
   ]
  },
  {
   "cell_type": "markdown",
   "metadata": {},
   "source": [
    "#### Ngram_range (1,1) & distribution 60 (no spoiler), 40 (spoiler)"
   ]
  },
  {
   "cell_type": "markdown",
   "metadata": {},
   "source": [
    "##### With stemming"
   ]
  },
  {
   "cell_type": "code",
   "execution_count": 58,
   "metadata": {},
   "outputs": [
    {
     "name": "stderr",
     "output_type": "stream",
     "text": [
      "/Users/badnick/.local/lib/python3.9/site-packages/joblib/externals/loky/process_executor.py:702: UserWarning: A worker stopped while some jobs were given to the executor. This can be caused by a too short worker timeout or by a memory leak.\n",
      "  warnings.warn(\n"
     ]
    },
    {
     "name": "stdout",
     "output_type": "stream",
     "text": [
      "--------------    K-FOLD WITHOUT STEMMING    --------------\n",
      "\n",
      "Accuracy =  [0.692225   0.67334836 0.66460898 0.66890931 0.68028438 0.68586787\n",
      " 0.67185712 0.67126756 0.68208774 0.67633085]\n",
      "\n",
      "Precision =  [0.56125314 0.51792477 0.50190749 0.50963201 0.52651183 0.53896339\n",
      " 0.51374786 0.51289728 0.52934735 0.51959746]\n",
      "\n",
      "Recall =  [0.391385   0.42285891 0.43388643 0.42533237 0.49531073 0.45975472\n",
      " 0.46408327 0.45903329 0.49819643 0.50551376]\n",
      "\n",
      "F1 score =  [0.46117418 0.46558865 0.4654248  0.46368182 0.51043492 0.49621802\n",
      " 0.48765432 0.48447273 0.51329971 0.51245886]\n",
      "\n",
      "fit_time (s) =  [28.81671405 28.44553208 28.79496121 28.64558077 28.83605909 28.15294194\n",
      " 28.05865502 28.32968593 28.2095511  28.68981504]\n",
      "\n",
      "score_time (s) =  [2.26389575 2.24078202 2.34192801 2.33618832 2.20530677 2.28947401\n",
      " 2.31518698 2.10334921 2.08017302 2.07637906]\n"
     ]
    }
   ],
   "source": [
    "clf_pipeline, score = apply_cross_validation(LinearSVC(), X, y, sampling_ratio = (40/60))\n",
    "svm_pipelines.append(clf_pipeline)\n",
    "svm_scores.append(score)"
   ]
  },
  {
   "cell_type": "markdown",
   "metadata": {},
   "source": [
    "##### Without stemming"
   ]
  },
  {
   "cell_type": "code",
   "execution_count": 59,
   "metadata": {
    "scrolled": true
   },
   "outputs": [
    {
     "name": "stdout",
     "output_type": "stream",
     "text": [
      "--------------    K-FOLD WITH STEMMING    --------------\n",
      "\n",
      "Accuracy =  [0.69586628 0.67612277 0.66783423 0.66419282 0.68243454 0.68957864\n",
      " 0.67698977 0.67591469 0.68621467 0.67532513]\n",
      "\n",
      "Precision =  [0.57001499 0.52355072 0.50764339 0.50124844 0.53048917 0.54737903\n",
      " 0.52303684 0.52138079 0.53654726 0.51836691]\n",
      "\n",
      "Recall =  [0.3917972  0.41698444 0.42780583 0.41378955 0.48953932 0.44769659\n",
      " 0.45511697 0.44986087 0.49551685 0.49592909]\n",
      "\n",
      "F1 score =  [0.46439477 0.46423039 0.46431767 0.45333936 0.50919226 0.49254493\n",
      " 0.48671884 0.48298755 0.51521646 0.50689982]\n",
      "\n",
      "fit_time (s) =  [27.53721619 28.04968905 27.62218022 27.7405231  27.9425447  27.37252903\n",
      " 27.82845998 27.95332289 27.58291078 27.85670805]\n",
      "\n",
      "score_time (s) =  [2.15199304 2.12243891 2.14433002 2.21743011 2.10280013 2.28165603\n",
      " 2.14649415 1.96745396 2.01908422 2.03410673]\n"
     ]
    }
   ],
   "source": [
    "clf_pipeline, score = apply_cross_validation(LinearSVC(), X_stemming, y, sampling_ratio = (40/60), stemming = True)\n",
    "svm_pipelines.append(clf_pipeline)\n",
    "svm_scores.append(score)"
   ]
  },
  {
   "cell_type": "markdown",
   "metadata": {},
   "source": [
    "#### Ngram_range (1,1) & dataset distribution"
   ]
  },
  {
   "cell_type": "markdown",
   "metadata": {},
   "source": [
    "##### With stemming"
   ]
  },
  {
   "cell_type": "code",
   "execution_count": 60,
   "metadata": {
    "scrolled": true
   },
   "outputs": [
    {
     "name": "stdout",
     "output_type": "stream",
     "text": [
      "--------------    K-FOLD WITHOUT STEMMING    --------------\n",
      "\n",
      "Accuracy =  [0.69923013 0.68559043 0.6811167  0.67581065 0.69124328 0.69450321\n",
      " 0.68531299 0.69079244 0.69810994 0.6912086 ]\n",
      "\n",
      "Precision =  [0.60544079 0.55494221 0.54128739 0.5298169  0.55810575 0.57308698\n",
      " 0.54811075 0.56247023 0.5724238  0.55678749]\n",
      "\n",
      "Recall =  [0.30502885 0.33154694 0.34319283 0.32505411 0.39596001 0.36122849\n",
      " 0.36926724 0.3651448  0.40647223 0.40368958]\n",
      "\n",
      "F1 score =  [0.40567395 0.41509677 0.42005676 0.40291262 0.46325436 0.443138\n",
      " 0.44125616 0.44281965 0.47538118 0.4680368 ]\n",
      "\n",
      "fit_time (s) =  [34.50177026 31.06245613 30.69233823 31.18200612 31.15322804 30.31553984\n",
      " 29.69272089 30.13812518 30.09296894 29.81382799]\n",
      "\n",
      "score_time (s) =  [2.14759183 2.28700113 2.27671289 2.3173027  2.23419094 2.31101918\n",
      " 2.33513808 2.10466576 2.11738324 2.04875398]\n"
     ]
    }
   ],
   "source": [
    "clf_pipeline, score = apply_cross_validation(LinearSVC(), X, y, sampling_ratio = -1 )\n",
    "svm_pipelines.append(clf_pipeline)\n",
    "svm_scores.append(score)"
   ]
  },
  {
   "cell_type": "markdown",
   "metadata": {},
   "source": [
    "##### Without stemming"
   ]
  },
  {
   "cell_type": "code",
   "execution_count": 61,
   "metadata": {},
   "outputs": [
    {
     "name": "stdout",
     "output_type": "stream",
     "text": [
      "--------------    K-FOLD WITH STEMMING    --------------\n",
      "\n",
      "Accuracy =  [0.70294077 0.68867696 0.68056182 0.67698977 0.693116   0.69831802\n",
      " 0.68642275 0.69301196 0.69873418 0.689648  ]\n",
      "\n",
      "Precision =  [0.62353452 0.56493739 0.54177989 0.53355184 0.56329677 0.58760908\n",
      " 0.55223645 0.56981132 0.57613909 0.55508475]\n",
      "\n",
      "Recall =  [0.29596043 0.32546635 0.3287643  0.31876739 0.39163145 0.34700608\n",
      " 0.36009482 0.35793054 0.39616613 0.39152839]\n",
      "\n",
      "F1 score =  [0.40139762 0.41299941 0.40921044 0.39909677 0.46203417 0.43633772\n",
      " 0.43593263 0.43967591 0.46949618 0.45917689]\n",
      "\n",
      "fit_time (s) =  [29.23886919 29.74986076 29.6607492  29.75907397 29.80946708 29.53795481\n",
      " 29.82399416 29.85466027 29.75889087 29.94731712]\n",
      "\n",
      "score_time (s) =  [2.14942694 2.12540126 2.22056079 2.24573994 2.15116906 2.25006199\n",
      " 2.15092993 2.00848508 2.05905318 2.02972484]\n"
     ]
    }
   ],
   "source": [
    "clf_pipeline, score = apply_cross_validation(LinearSVC(), X_stemming, y, sampling_ratio = -1, stemming = True)\n",
    "svm_pipelines.append(clf_pipeline)\n",
    "svm_scores.append(score)"
   ]
  },
  {
   "cell_type": "markdown",
   "metadata": {},
   "source": [
    "#### Ngram_range (1,2) & Undersampling 50/50"
   ]
  },
  {
   "cell_type": "markdown",
   "metadata": {},
   "source": [
    "##### With stemming"
   ]
  },
  {
   "cell_type": "code",
   "execution_count": 62,
   "metadata": {},
   "outputs": [
    {
     "name": "stderr",
     "output_type": "stream",
     "text": [
      "/Users/badnick/.local/lib/python3.9/site-packages/joblib/externals/loky/process_executor.py:702: UserWarning: A worker stopped while some jobs were given to the executor. This can be caused by a too short worker timeout or by a memory leak.\n",
      "  warnings.warn(\n"
     ]
    },
    {
     "name": "stdout",
     "output_type": "stream",
     "text": [
      "--------------    K-FOLD WITHOUT STEMMING    --------------\n",
      "\n",
      "Accuracy =  [0.66344153 0.6372464  0.63083059 0.62899254 0.64022889 0.64393966\n",
      " 0.64296861 0.63457604 0.63821744 0.63145483]\n",
      "\n",
      "Precision =  [0.49995507 0.4693993  0.46329489 0.46168656 0.47531091 0.47800998\n",
      " 0.47780111 0.4685283  0.47375621 0.46778692]\n",
      "\n",
      "Recall =  [0.57337181 0.59837164 0.6126971  0.61785015 0.66567041 0.63176337\n",
      " 0.65660105 0.63980212 0.67814078 0.69143564]\n",
      "\n",
      "F1 score =  [0.53415255 0.52609641 0.5276237  0.5284732  0.55461103 0.54423581\n",
      " 0.55311021 0.54093147 0.55781621 0.55803701]\n",
      "\n",
      "fit_time (s) =  [219.64558196 223.3505137  220.7978642  220.36536789 219.73052192\n",
      " 100.86171699 102.18944097 107.338907   100.29166722 107.85067582]\n",
      "\n",
      "score_time (s) =  [7.97755694 7.43901491 8.03796577 7.98598695 7.6261549  9.23192286\n",
      " 8.63470483 6.755651   8.40335083 6.55258918]\n"
     ]
    }
   ],
   "source": [
    "clf_pipeline, score = apply_cross_validation(LinearSVC(), X, y, ngrams= (1,2), sampling_ratio = 1)\n",
    "svm_pipelines.append(clf_pipeline)\n",
    "svm_scores.append(score)"
   ]
  },
  {
   "cell_type": "markdown",
   "metadata": {},
   "source": [
    "##### Without stemming"
   ]
  },
  {
   "cell_type": "code",
   "execution_count": 63,
   "metadata": {
    "scrolled": true
   },
   "outputs": [
    {
     "name": "stdout",
     "output_type": "stream",
     "text": [
      "--------------    K-FOLD WITH STEMMING    --------------\n",
      "\n",
      "Accuracy =  [0.65969621 0.63287671 0.62583666 0.62406797 0.63950061 0.64726894\n",
      " 0.64671406 0.63311947 0.6365528  0.63239119]\n",
      "\n",
      "Precision =  [0.49516458 0.46415523 0.45756486 0.45700023 0.47444231 0.48174442\n",
      " 0.48137028 0.46720575 0.4718906  0.46850643]\n",
      "\n",
      "Recall =  [0.57512366 0.58919922 0.60342162 0.62269401 0.66196022 0.63640111\n",
      " 0.64443986 0.64310007 0.67216325 0.68762238]\n",
      "\n",
      "F1 score =  [0.53215733 0.51925522 0.52046758 0.52713314 0.55273009 0.54837707\n",
      " 0.55109505 0.54122035 0.55449753 0.55730037]\n",
      "\n",
      "fit_time (s) =  [119.87971497 116.238621   124.04979801 119.59362698 122.16539478\n",
      " 100.80849695 101.94378591 107.45781493 104.27929807 107.43569493]\n",
      "\n",
      "score_time (s) =  [ 8.74936676 10.02547884  8.6002512   8.9917171   8.37241721 10.10386491\n",
      "  9.7569139   7.08250022  7.57725596  6.77177715]\n"
     ]
    }
   ],
   "source": [
    "clf_pipeline, score = apply_cross_validation(LinearSVC(), X_stemming, y, ngrams= (1,2), sampling_ratio = 1, stemming = True)\n",
    "svm_pipelines.append(clf_pipeline)\n",
    "svm_scores.append(score)"
   ]
  },
  {
   "cell_type": "markdown",
   "metadata": {},
   "source": [
    "### Ngram_range (1,2) & distribution 60 (no spoiler), 40 (spoiler)"
   ]
  },
  {
   "cell_type": "markdown",
   "metadata": {},
   "source": [
    "##### With stemming"
   ]
  },
  {
   "cell_type": "code",
   "execution_count": 64,
   "metadata": {},
   "outputs": [
    {
     "name": "stderr",
     "output_type": "stream",
     "text": [
      "/Users/badnick/.local/lib/python3.9/site-packages/joblib/externals/loky/process_executor.py:702: UserWarning: A worker stopped while some jobs were given to the executor. This can be caused by a too short worker timeout or by a memory leak.\n",
      "  warnings.warn(\n"
     ]
    },
    {
     "name": "stdout",
     "output_type": "stream",
     "text": [
      "--------------    K-FOLD WITHOUT STEMMING    --------------\n",
      "\n",
      "Accuracy =  [0.69212096 0.67442344 0.66776487 0.66453962 0.67952141 0.68683891\n",
      " 0.68715103 0.67771805 0.68229582 0.68090862]\n",
      "\n",
      "Precision =  [0.5521333  0.51777452 0.50667245 0.50158462 0.52289395 0.53653241\n",
      " 0.53621495 0.52159713 0.52692766 0.52371504]\n",
      "\n",
      "Recall =  [0.45074196 0.47284345 0.48129445 0.4893332  0.54374936 0.50932701\n",
      " 0.52035453 0.51025456 0.546532   0.57126662]\n",
      "\n",
      "F1 score =  [0.49631227 0.49429002 0.49365751 0.49538317 0.53311777 0.52257587\n",
      " 0.5281657  0.51586351 0.53655082 0.54645832]\n",
      "\n",
      "fit_time (s) =  [115.25332093 120.70833898 114.34884882 119.97147107 113.32203913\n",
      " 119.03587079 117.42772913 122.69403481 120.84802794 122.08097911]\n",
      "\n",
      "score_time (s) =  [ 8.73360419  7.48819804  8.22970009  7.89605308  8.13587499 10.02316809\n",
      "  9.590482    7.7968483   7.94552708  7.00179815]\n"
     ]
    }
   ],
   "source": [
    "clf_pipeline, score = apply_cross_validation(LinearSVC(), X, y, ngrams= (1,2), sampling_ratio = (40/60))\n",
    "svm_pipelines.append(clf_pipeline)\n",
    "svm_scores.append(score)"
   ]
  },
  {
   "cell_type": "markdown",
   "metadata": {},
   "source": [
    "##### Without stemming"
   ]
  },
  {
   "cell_type": "code",
   "execution_count": 65,
   "metadata": {
    "scrolled": true
   },
   "outputs": [
    {
     "name": "stderr",
     "output_type": "stream",
     "text": [
      "/Users/badnick/.local/lib/python3.9/site-packages/joblib/externals/loky/process_executor.py:702: UserWarning: A worker stopped while some jobs were given to the executor. This can be caused by a too short worker timeout or by a memory leak.\n",
      "  warnings.warn(\n"
     ]
    },
    {
     "name": "stdout",
     "output_type": "stream",
     "text": [
      "--------------    K-FOLD WITH STEMMING    --------------\n",
      "\n",
      "Accuracy =  [0.692225   0.67435408 0.66592683 0.6654413  0.67910525 0.68572915\n",
      " 0.68402982 0.6734524  0.6800763  0.67674701]\n",
      "\n",
      "Precision =  [0.55329819 0.51777803 0.50386143 0.50299018 0.52259036 0.53557554\n",
      " 0.53154305 0.51501832 0.5239479  0.51826702]\n",
      "\n",
      "Recall =  [0.44342539 0.46975162 0.47067917 0.48541688 0.53643203 0.49726889\n",
      " 0.51406781 0.50716273 0.53890549 0.55848707]\n",
      "\n",
      "F1 score =  [0.49230593 0.492597   0.48670539 0.49404731 0.52942074 0.51571184\n",
      " 0.5226594  0.51106034 0.53132144 0.53762587]\n",
      "\n",
      "fit_time (s) =  [106.56689596 109.32965326 112.69603205 112.1330471  111.72060895\n",
      "  98.641752   100.11880803 102.65324616 104.36543202 102.14577508]\n",
      "\n",
      "score_time (s) =  [ 8.8894031   7.744102    7.41649294  7.50462699  7.52864003 10.58940315\n",
      "  9.20387793  7.0440948   6.78586721  6.7997508 ]\n"
     ]
    }
   ],
   "source": [
    "clf_pipeline, score = apply_cross_validation(LinearSVC(), X_stemming, y, ngrams= (1,2), sampling_ratio = (40/60), stemming = True)\n",
    "svm_pipelines.append(clf_pipeline)\n",
    "svm_scores.append(score)"
   ]
  },
  {
   "cell_type": "markdown",
   "metadata": {},
   "source": [
    "### Ngram_range (1,2) & dataset distribution"
   ]
  },
  {
   "cell_type": "markdown",
   "metadata": {},
   "source": [
    "##### With stemming"
   ]
  },
  {
   "cell_type": "code",
   "execution_count": 66,
   "metadata": {
    "scrolled": true
   },
   "outputs": [
    {
     "name": "stdout",
     "output_type": "stream",
     "text": [
      "--------------    K-FOLD WITHOUT STEMMING    --------------\n",
      "\n",
      "Accuracy =  [0.70089471 0.68805271 0.6821571  0.68004162 0.69641061 0.70161262\n",
      " 0.70109242 0.6925958  0.69856078 0.69616785]\n",
      "\n",
      "Precision =  [0.58993166 0.55245999 0.53759083 0.53215586 0.55895142 0.57601328\n",
      " 0.57308522 0.55668153 0.56451819 0.55652904]\n",
      "\n",
      "Recall =  [0.36469497 0.38421107 0.39647532 0.40678141 0.46367103 0.42914563\n",
      " 0.43800886 0.42461095 0.4558384  0.47789344]\n",
      "\n",
      "F1 score =  [0.4507419  0.45322473 0.45637345 0.46109813 0.50687247 0.49184975\n",
      " 0.49652433 0.48175865 0.50439047 0.51422235]\n",
      "\n",
      "fit_time (s) =  [125.29187393 113.57586503 127.02364707 121.14002013 125.88791776\n",
      " 113.36750102 118.94285393 122.32317615 122.65278792 122.32518601]\n",
      "\n",
      "score_time (s) =  [ 8.62561917 11.56072712  8.53940082 10.20226192  8.24310923 11.12508011\n",
      "  9.03770423  7.60166502  7.35527086  7.53073692]\n"
     ]
    }
   ],
   "source": [
    "clf_pipeline, score = apply_cross_validation(LinearSVC(), X, y, ngrams= (1,2), sampling_ratio = -1 )\n",
    "svm_pipelines.append(clf_pipeline)\n",
    "svm_scores.append(score)"
   ]
  },
  {
   "cell_type": "markdown",
   "metadata": {},
   "source": [
    "##### Without stemming"
   ]
  },
  {
   "cell_type": "code",
   "execution_count": 67,
   "metadata": {
    "scrolled": false
   },
   "outputs": [
    {
     "name": "stdout",
     "output_type": "stream",
     "text": [
      "--------------    K-FOLD WITH STEMMING    --------------\n",
      "\n",
      "Accuracy =  [0.70301013 0.68794867 0.67879313 0.67712849 0.69661869 0.6983527\n",
      " 0.69790186 0.6906884  0.69883822 0.69446853]\n",
      "\n",
      "Precision =  [0.59750257 0.55218357 0.53153153 0.52678206 0.56014611 0.57122608\n",
      " 0.56803841 0.55380181 0.56531214 0.55477855]\n",
      "\n",
      "Recall =  [0.35995466 0.38441719 0.3830774  0.39833041 0.45831186 0.41533546\n",
      " 0.42677522 0.41585077 0.45449861 0.46604143]\n",
      "\n",
      "F1 score =  [0.44926045 0.453275   0.44525635 0.4536385  0.50413785 0.48096432\n",
      " 0.48737716 0.47501324 0.50388483 0.50655315]\n",
      "\n",
      "fit_time (s) =  [102.76393795 109.43361211 113.3817091  111.37391615 109.66906691\n",
      "  98.60792017 103.64194989 109.02762794 107.68627906 102.56191206]\n",
      "\n",
      "score_time (s) =  [10.2591362   7.90574312  7.30791974  7.79287076  7.57619405 10.36366987\n",
      "  8.57824492  6.44768214  6.7401669   7.25027108]\n"
     ]
    }
   ],
   "source": [
    "clf_pipeline, score = apply_cross_validation(LinearSVC(), X_stemming, y, ngrams= (1,2), sampling_ratio = -1, stemming = True)\n",
    "svm_pipelines.append(clf_pipeline)\n",
    "svm_scores.append(score)"
   ]
  },
  {
   "cell_type": "markdown",
   "metadata": {},
   "source": [
    "### LogisticRegression"
   ]
  },
  {
   "cell_type": "code",
   "execution_count": 108,
   "metadata": {},
   "outputs": [],
   "source": [
    "from sklearn.linear_model import LogisticRegression\n",
    "logistic_pipelines = []\n",
    "logistic_scores = []"
   ]
  },
  {
   "cell_type": "markdown",
   "metadata": {},
   "source": [
    "#### Ngram_range (1,1) & Undersampling 50/50"
   ]
  },
  {
   "cell_type": "markdown",
   "metadata": {},
   "source": [
    "##### With stemming"
   ]
  },
  {
   "cell_type": "code",
   "execution_count": 109,
   "metadata": {},
   "outputs": [
    {
     "name": "stdout",
     "output_type": "stream",
     "text": [
      "--------------    K-FOLD WITHOUT STEMMING    --------------\n",
      "\n",
      "Accuracy =  [0.67717437 0.65000867 0.6449107  0.64685278 0.65697937 0.66273626\n",
      " 0.65555748 0.64532686 0.65566152 0.64355818]\n",
      "\n",
      "Precision =  [0.51949077 0.48288003 0.47763312 0.47976732 0.4926413  0.49908272\n",
      " 0.49055047 0.4792393  0.49125658 0.47822465]\n",
      "\n",
      "Recall =  [0.54245672 0.56539215 0.58981758 0.58651963 0.6485623  0.61681954\n",
      " 0.61259404 0.62331238 0.65433371 0.65072658]\n",
      "\n",
      "F1 score =  [0.53072541 0.52088872 0.5278303  0.52779968 0.55995017 0.55174003\n",
      " 0.54482126 0.54186265 0.56118796 0.5512966 ]\n",
      "\n",
      "fit_time (s) =  [27.94600701 28.16761518 29.87976289 27.57900524 29.06309295 26.16669393\n",
      " 24.90628195 27.28956318 27.02492476 28.42393088]\n",
      "\n",
      "score_time (s) =  [2.3247509  2.30799389 2.20589113 2.39286661 2.12210894 2.37357688\n",
      " 2.43779016 2.12263703 2.04999304 2.00751615]\n"
     ]
    }
   ],
   "source": [
    "clf_pipeline, score = apply_cross_validation(LogisticRegression(max_iter=10000), X, y, sampling_ratio = 1)\n",
    "logistic_pipelines.append(clf_pipeline)\n",
    "logistic_scores.append(score)"
   ]
  },
  {
   "cell_type": "markdown",
   "metadata": {},
   "source": [
    "##### Without stemming"
   ]
  },
  {
   "cell_type": "code",
   "execution_count": 110,
   "metadata": {
    "scrolled": true
   },
   "outputs": [
    {
     "name": "stderr",
     "output_type": "stream",
     "text": [
      "/Users/badnick/.local/lib/python3.9/site-packages/joblib/externals/loky/process_executor.py:702: UserWarning: A worker stopped while some jobs were given to the executor. This can be caused by a too short worker timeout or by a memory leak.\n",
      "  warnings.warn(\n"
     ]
    },
    {
     "name": "stdout",
     "output_type": "stream",
     "text": [
      "--------------    K-FOLD WITH STEMMING    --------------\n",
      "\n",
      "Accuracy =  [0.67838813 0.65094503 0.6440437  0.64692214 0.65611236 0.66797295\n",
      " 0.65618172 0.64692214 0.65697937 0.63977805]\n",
      "\n",
      "Precision =  [0.52092661 0.4841949  0.47627907 0.48       0.49160028 0.50557235\n",
      " 0.49131902 0.48058174 0.49266771 0.47443182]\n",
      "\n",
      "Recall =  [0.55152514 0.57147274 0.58043904 0.59115737 0.64237865 0.60311244\n",
      " 0.61537669 0.60960528 0.6509327  0.65402453]\n",
      "\n",
      "F1 score =  [0.53578937 0.52422595 0.52322557 0.52981111 0.55696542 0.5500517\n",
      " 0.54639458 0.53745854 0.56084891 0.54993717]\n",
      "\n",
      "fit_time (s) =  [25.36923432 25.96991301 26.28933907 27.90248704 26.13607335 27.04990625\n",
      " 26.54941487 27.42545581 27.86267185 24.9241991 ]\n",
      "\n",
      "score_time (s) =  [2.27734399 2.21666098 2.26338983 2.14900494 2.13670182 2.21028399\n",
      " 2.26500416 1.98063302 1.9824481  2.19666696]\n"
     ]
    }
   ],
   "source": [
    "clf_pipeline, score = apply_cross_validation(LogisticRegression(max_iter=10000), X_stemming, y, sampling_ratio = 1, stemming = True)\n",
    "logistic_pipelines.append(clf_pipeline)\n",
    "logistic_scores.append(score)"
   ]
  },
  {
   "cell_type": "markdown",
   "metadata": {},
   "source": [
    "### Ngram_range (1,1) & distribution 60 (no spoiler), 40 (spoiler)"
   ]
  },
  {
   "cell_type": "markdown",
   "metadata": {},
   "source": [
    "##### With stemming"
   ]
  },
  {
   "cell_type": "code",
   "execution_count": 111,
   "metadata": {},
   "outputs": [
    {
     "name": "stderr",
     "output_type": "stream",
     "text": [
      "/Users/badnick/.local/lib/python3.9/site-packages/joblib/externals/loky/process_executor.py:702: UserWarning: A worker stopped while some jobs were given to the executor. This can be caused by a too short worker timeout or by a memory leak.\n",
      "  warnings.warn(\n"
     ]
    },
    {
     "name": "stdout",
     "output_type": "stream",
     "text": [
      "--------------    K-FOLD WITHOUT STEMMING    --------------\n",
      "\n",
      "Accuracy =  [0.70217783 0.68805271 0.68323218 0.6833709  0.69387897 0.69935842\n",
      " 0.69231836 0.69134732 0.6986995  0.68718571]\n",
      "\n",
      "Precision =  [0.59076122 0.54890854 0.53744899 0.5383791  0.55218013 0.56926581\n",
      " 0.5526016  0.55008108 0.55968482 0.53896178]\n",
      "\n",
      "Recall =  [0.37427865 0.40946099 0.42079769 0.41420179 0.47768731 0.4379058\n",
      " 0.44986087 0.45449861 0.49046687 0.48685973]\n",
      "\n",
      "F1 score =  [0.45823871 0.46903961 0.47202312 0.46819664 0.5122396  0.49501951\n",
      " 0.49596637 0.49774266 0.52279468 0.51158761]\n",
      "\n",
      "fit_time (s) =  [33.02128506 37.13377976 35.28225589 32.12992597 34.19447708 35.10852408\n",
      " 32.48099923 35.16864109 35.376158   34.65491724]\n",
      "\n",
      "score_time (s) =  [2.40060806 2.0934782  2.23818111 2.48513889 2.24323606 2.32639003\n",
      " 2.50846076 2.08272409 2.04073501 2.07080483]\n"
     ]
    }
   ],
   "source": [
    "clf_pipeline, score = apply_cross_validation(LogisticRegression(max_iter=10000), X, y, sampling_ratio = (40/60))\n",
    "logistic_pipelines.append(clf_pipeline)\n",
    "logistic_scores.append(score)"
   ]
  },
  {
   "cell_type": "markdown",
   "metadata": {},
   "source": [
    "##### Without stemming"
   ]
  },
  {
   "cell_type": "code",
   "execution_count": 112,
   "metadata": {
    "scrolled": true
   },
   "outputs": [
    {
     "name": "stderr",
     "output_type": "stream",
     "text": [
      "/Users/badnick/.local/lib/python3.9/site-packages/joblib/externals/loky/process_executor.py:702: UserWarning: A worker stopped while some jobs were given to the executor. This can be caused by a too short worker timeout or by a memory leak.\n",
      "  warnings.warn(\n"
     ]
    },
    {
     "name": "stdout",
     "output_type": "stream",
     "text": [
      "--------------    K-FOLD WITH STEMMING    --------------\n",
      "\n",
      "Accuracy =  [0.70314884 0.68780995 0.68274666 0.6805965  0.69273452 0.70268771\n",
      " 0.69193688 0.69023756 0.69776314 0.68725507]\n",
      "\n",
      "Precision =  [0.59331158 0.54856589 0.53699507 0.53269664 0.55013679 0.57699646\n",
      " 0.55212306 0.5482297  0.55740181 0.53959995]\n",
      "\n",
      "Recall =  [0.3747939  0.40801814 0.41512934 0.41389261 0.4766567  0.43635989\n",
      " 0.44759353 0.4516129  0.49438318 0.48098526]\n",
      "\n",
      "F1 score =  [0.45939118 0.4679669  0.46826319 0.46583923 0.51076753 0.49691919\n",
      " 0.49439353 0.49525316 0.52400459 0.50860942]\n",
      "\n",
      "fit_time (s) =  [31.92106867 27.59057808 34.48322797 29.00814795 34.98588705 30.13009214\n",
      " 32.65663815 31.56298208 33.59667802 33.15761685]\n",
      "\n",
      "score_time (s) =  [2.207412   2.35367513 2.12034607 2.38422704 2.12022781 2.46222305\n",
      " 2.28892708 2.12970495 1.9431541  2.06433201]\n"
     ]
    }
   ],
   "source": [
    "clf_pipeline, score = apply_cross_validation(LogisticRegression(max_iter=10000), X_stemming, y, sampling_ratio = (40/60), stemming = True)\n",
    "logistic_pipelines.append(clf_pipeline)\n",
    "logistic_scores.append(score)"
   ]
  },
  {
   "cell_type": "markdown",
   "metadata": {},
   "source": [
    "### Ngram_range (1,1) & dataset distribution"
   ]
  },
  {
   "cell_type": "markdown",
   "metadata": {},
   "source": [
    "##### With stemming"
   ]
  },
  {
   "cell_type": "code",
   "execution_count": 113,
   "metadata": {
    "scrolled": true
   },
   "outputs": [
    {
     "name": "stderr",
     "output_type": "stream",
     "text": [
      "/Users/badnick/.local/lib/python3.9/site-packages/joblib/externals/loky/process_executor.py:702: UserWarning: A worker stopped while some jobs were given to the executor. This can be caused by a too short worker timeout or by a memory leak.\n",
      "  warnings.warn(\n"
     ]
    },
    {
     "name": "stdout",
     "output_type": "stream",
     "text": [
      "--------------    K-FOLD WITHOUT STEMMING    --------------\n",
      "\n",
      "Accuracy =  [0.70574976 0.69706953 0.69169412 0.68937056 0.7018207  0.708618\n",
      " 0.70074562 0.70341599 0.70837524 0.6999133 ]\n",
      "\n",
      "Precision =  [0.64337803 0.59546351 0.57515252 0.56844037 0.58774019 0.62044066\n",
      " 0.59470899 0.60184038 0.60469256 0.58473209]\n",
      "\n",
      "Recall =  [0.28184254 0.31114088 0.32062249 0.3192827  0.38142842 0.34535711\n",
      " 0.34752139 0.35051015 0.38513862 0.37338967]\n",
      "\n",
      "F1 score =  [0.3919742  0.40871861 0.41172578 0.40889593 0.462625   0.44372352\n",
      " 0.43869121 0.44301159 0.47056601 0.45575193]\n",
      "\n",
      "fit_time (s) =  [36.2340641  40.57278109 38.72313309 34.30363202 36.06456804 37.7012732\n",
      " 40.40847611 37.59489918 38.37389016 35.93913388]\n",
      "\n",
      "score_time (s) =  [2.34630084 2.05246902 2.28077388 2.45829606 2.30412889 2.46642208\n",
      " 2.15613699 2.18433785 1.93852592 2.13197398]\n"
     ]
    }
   ],
   "source": [
    "clf_pipeline, score = apply_cross_validation(LogisticRegression(max_iter=10000), X, y, sampling_ratio = -1 )\n",
    "logistic_pipelines.append(clf_pipeline)\n",
    "logistic_scores.append(score)"
   ]
  },
  {
   "cell_type": "markdown",
   "metadata": {},
   "source": [
    "##### Without stemming"
   ]
  },
  {
   "cell_type": "code",
   "execution_count": 114,
   "metadata": {},
   "outputs": [
    {
     "name": "stderr",
     "output_type": "stream",
     "text": [
      "/Users/badnick/.local/lib/python3.9/site-packages/joblib/externals/loky/process_executor.py:702: UserWarning: A worker stopped while some jobs were given to the executor. This can be caused by a too short worker timeout or by a memory leak.\n",
      "  warnings.warn(\n"
     ]
    },
    {
     "name": "stdout",
     "output_type": "stream",
     "text": [
      "--------------    K-FOLD WITH STEMMING    --------------\n",
      "\n",
      "Accuracy =  [0.70703288 0.69571701 0.69048032 0.68787931 0.7021675  0.70730016\n",
      " 0.6999133  0.70334663 0.70691868 0.69876886]\n",
      "\n",
      "Precision =  [0.6500956  0.59196199 0.57320286 0.56486437 0.58847802 0.62049227\n",
      " 0.59358289 0.60249777 0.60205412 0.58202936]\n",
      "\n",
      "Recall =  [0.28029678 0.30815212 0.31392353 0.31546944 0.38214985 0.33515408\n",
      " 0.34319283 0.34803669 0.38060394 0.37184376]\n",
      "\n",
      "F1 score =  [0.39170507 0.40531381 0.40567357 0.40484063 0.46338415 0.43522484\n",
      " 0.43492457 0.44120721 0.46637621 0.4537794 ]\n",
      "\n",
      "fit_time (s) =  [34.35107398 33.99049306 39.41581726 35.29726624 39.44648314 36.74631906\n",
      " 36.31762409 33.01023698 40.92315388 34.42115998]\n",
      "\n",
      "score_time (s) =  [2.24514413 2.25393295 2.15402293 2.32606483 2.02805901 2.28279185\n",
      " 2.26486778 2.22680807 1.99324322 2.23351908]\n"
     ]
    }
   ],
   "source": [
    "clf_pipeline, score = apply_cross_validation(LogisticRegression(max_iter=10000), X_stemming, y, sampling_ratio = -1, stemming = True)\n",
    "logistic_pipelines.append(clf_pipeline)\n",
    "logistic_scores.append(score)"
   ]
  },
  {
   "cell_type": "markdown",
   "metadata": {},
   "source": [
    "### Ngram_range (1,2) & Undersampling 50/50"
   ]
  },
  {
   "cell_type": "markdown",
   "metadata": {},
   "source": [
    "##### With stemming"
   ]
  },
  {
   "cell_type": "code",
   "execution_count": 115,
   "metadata": {},
   "outputs": [
    {
     "name": "stderr",
     "output_type": "stream",
     "text": [
      "/Users/badnick/.local/lib/python3.9/site-packages/joblib/externals/loky/process_executor.py:702: UserWarning: A worker stopped while some jobs were given to the executor. This can be caused by a too short worker timeout or by a memory leak.\n",
      "  warnings.warn(\n"
     ]
    },
    {
     "name": "stdout",
     "output_type": "stream",
     "text": [
      "--------------    K-FOLD WITHOUT STEMMING    --------------\n",
      "\n",
      "Accuracy =  [0.68248023 0.65111843 0.64827467 0.65139587 0.65937229 0.66367262\n",
      " 0.6617999  0.64848275 0.65715277 0.64081845]\n",
      "\n",
      "Precision =  [0.52555493 0.48522473 0.48254195 0.48620444 0.49552463 0.50019815\n",
      " 0.49809116 0.48375235 0.49330504 0.47696859]\n",
      "\n",
      "Recall =  [0.58068838 0.60414305 0.62527053 0.63382459 0.67896527 0.6504174\n",
      " 0.65886839 0.66433062 0.69483665 0.69792848]\n",
      "\n",
      "F1 score =  [0.55174777 0.53819317 0.5447118  0.55028633 0.57291938 0.56550179\n",
      " 0.56730855 0.55984019 0.57697903 0.56667085]\n",
      "\n",
      "fit_time (s) =  [367.01644111 316.27159786 356.55089211 303.31262207 327.67418218\n",
      " 215.27474618 238.69225907 255.14616013 268.6230669  243.17772198]\n",
      "\n",
      "score_time (s) =  [ 6.7257638   9.90768719  8.37067008 11.31129909  9.13230181 11.1858077\n",
      "  9.62980723  8.36137271  6.04235697  6.66096902]\n"
     ]
    }
   ],
   "source": [
    "clf_pipeline, score = apply_cross_validation(LogisticRegression(max_iter=10000), X, y, ngrams= (1,2), sampling_ratio = 1)\n",
    "logistic_pipelines.append(clf_pipeline)\n",
    "logistic_scores.append(score)"
   ]
  },
  {
   "cell_type": "markdown",
   "metadata": {},
   "source": [
    "##### Without stemming"
   ]
  },
  {
   "cell_type": "code",
   "execution_count": 116,
   "metadata": {
    "scrolled": true
   },
   "outputs": [
    {
     "name": "stdout",
     "output_type": "stream",
     "text": [
      "--------------    K-FOLD WITH STEMMING    --------------\n",
      "\n",
      "Accuracy =  [0.6858094  0.6541356  0.64948847 0.65111843 0.66010057 0.66648171\n",
      " 0.66485174 0.64730362 0.65770765 0.64144269]\n",
      "\n",
      "Precision =  [0.530837   0.48872934 0.4837228  0.48584793 0.4962715  0.5034683\n",
      " 0.50154504 0.48230122 0.49376633 0.4774564 ]\n",
      "\n",
      "Recall =  [0.57120775 0.60331856 0.61867464 0.63155725 0.67216325 0.64330619\n",
      " 0.65237555 0.65577656 0.68164485 0.69411522]\n",
      "\n",
      "F1 score =  [0.55028293 0.54001199 0.54293854 0.54920237 0.57097833 0.56486132\n",
      " 0.56710267 0.55581761 0.57269028 0.56575245]\n",
      "\n",
      "fit_time (s) =  [182.29966187 189.76901603 223.85724401 228.34842515 217.31701279\n",
      " 294.93355703 273.35842299 293.33218312 263.34320116 263.86406827]\n",
      "\n",
      "score_time (s) =  [10.15434694  9.23976517  7.49696803  6.94804788  7.83623028  9.32045794\n",
      " 10.94265509  5.69780087  8.29696417  6.77240181]\n"
     ]
    }
   ],
   "source": [
    "clf_pipeline, score = apply_cross_validation(LogisticRegression(max_iter=10000), X_stemming, y, ngrams= (1,2), sampling_ratio = 1, stemming = True)\n",
    "logistic_pipelines.append(clf_pipeline)\n",
    "logistic_scores.append(score)"
   ]
  },
  {
   "cell_type": "markdown",
   "metadata": {},
   "source": [
    "### Ngram_range (1,2) & distribution 60 (no spoiler), 40 (spoiler)"
   ]
  },
  {
   "cell_type": "markdown",
   "metadata": {},
   "source": [
    "##### With stemming"
   ]
  },
  {
   "cell_type": "code",
   "execution_count": 117,
   "metadata": {},
   "outputs": [
    {
     "name": "stdout",
     "output_type": "stream",
     "text": [
      "--------------    K-FOLD WITHOUT STEMMING    --------------\n",
      "\n",
      "Accuracy =  [0.7088015  0.69575169 0.69124328 0.69162476 0.70341599 0.70709208\n",
      " 0.70438703 0.69706953 0.70480319 0.6924224 ]\n",
      "\n",
      "Precision =  [0.60024544 0.56067328 0.5502008  0.54957819 0.56537544 0.57843504\n",
      " 0.57015352 0.557414   0.56691763 0.5447137 ]\n",
      "\n",
      "Recall =  [0.40323578 0.44285273 0.45181903 0.46325879 0.51293414 0.47768731\n",
      " 0.49376482 0.48428321 0.51994229 0.52354942]\n",
      "\n",
      "F1 score =  [0.48240153 0.49484655 0.49618018 0.50274019 0.53787961 0.52325581\n",
      " 0.52921683 0.51828159 0.54241479 0.53392191]\n",
      "\n",
      "fit_time (s) =  [423.36661196 384.34456015 400.9037323  344.76462698 412.55304384\n",
      " 397.15191603 403.54922104 351.71914077 406.25789905 369.94523382]\n",
      "\n",
      "score_time (s) =  [ 7.12614989  9.9094727   9.23736095 11.51149917  7.52746511 11.04150605\n",
      "  7.77771378  9.84231019  6.08789301  7.57411718]\n"
     ]
    }
   ],
   "source": [
    "clf_pipeline, score = apply_cross_validation(LogisticRegression(max_iter=10000), X, y, ngrams= (1,2), sampling_ratio = (40/60))\n",
    "logistic_pipelines.append(clf_pipeline)\n",
    "logistic_scores.append(score)"
   ]
  },
  {
   "cell_type": "markdown",
   "metadata": {},
   "source": [
    "##### Without stemming"
   ]
  },
  {
   "cell_type": "code",
   "execution_count": 118,
   "metadata": {
    "scrolled": true
   },
   "outputs": [
    {
     "name": "stdout",
     "output_type": "stream",
     "text": [
      "--------------    K-FOLD WITH STEMMING    --------------\n",
      "\n",
      "Accuracy =  [0.70890553 0.69543957 0.69169412 0.6910352  0.70452575 0.70743888\n",
      " 0.70431767 0.69776314 0.70591295 0.69474597]\n",
      "\n",
      "Precision =  [0.60344283 0.56096915 0.55264862 0.5494396  0.56807458 0.58036281\n",
      " 0.57243077 0.55969067 0.56904144 0.54879238]\n",
      "\n",
      "Recall =  [0.39375515 0.43666907 0.4397609  0.45470473 0.50870865 0.47150366\n",
      " 0.47933629 0.47737813 0.51942698 0.52220963]\n",
      "\n",
      "F1 score =  [0.47655276 0.49107557 0.48978421 0.49760334 0.53675511 0.52030024\n",
      " 0.52176352 0.51526781 0.54310345 0.5351711 ]\n",
      "\n",
      "fit_time (s) =  [330.82870722 265.14320612 315.64115596 338.03496313 323.68626428\n",
      " 321.63448215 331.43211102 350.57999802 316.5997231  306.08638287]\n",
      "\n",
      "score_time (s) =  [ 8.15194798 10.38215971 10.03245211  6.71319485  8.35930181 11.0890789\n",
      "  7.26972604  5.72071505  7.52548194  9.36160207]\n"
     ]
    }
   ],
   "source": [
    "clf_pipeline, score = apply_cross_validation(LogisticRegression(max_iter=10000), X_stemming, y, ngrams= (1,2), sampling_ratio = (40/60), stemming = True)\n",
    "logistic_pipelines.append(clf_pipeline)\n",
    "logistic_scores.append(score)"
   ]
  },
  {
   "cell_type": "markdown",
   "metadata": {},
   "source": [
    "### Ngram_range (1,2) & dataset distribution"
   ]
  },
  {
   "cell_type": "markdown",
   "metadata": {},
   "source": [
    "##### With stemming"
   ]
  },
  {
   "cell_type": "code",
   "execution_count": 119,
   "metadata": {
    "scrolled": true
   },
   "outputs": [
    {
     "name": "stderr",
     "output_type": "stream",
     "text": [
      "/Users/badnick/.local/lib/python3.9/site-packages/joblib/externals/loky/process_executor.py:702: UserWarning: A worker stopped while some jobs were given to the executor. This can be caused by a too short worker timeout or by a memory leak.\n",
      "  warnings.warn(\n"
     ]
    },
    {
     "name": "stdout",
     "output_type": "stream",
     "text": [
      "--------------    K-FOLD WITHOUT STEMMING    --------------\n",
      "\n",
      "Accuracy =  [0.71105562 0.70341599 0.70032946 0.70091902 0.71551933 0.71603954\n",
      " 0.71316109 0.71007456 0.71496445 0.70872204]\n",
      "\n",
      "Precision =  [0.64810017 0.60438962 0.59404888 0.5910856  0.61492492 0.62946505\n",
      " 0.61749262 0.6116747  0.61276596 0.5962788 ]\n",
      "\n",
      "Recall =  [0.30935697 0.34339895 0.34566629 0.36081624 0.41358343 0.37957333\n",
      " 0.3878182  0.37905802 0.41554159 0.41615995]\n",
      "\n",
      "F1 score =  [0.4188058  0.43796004 0.43703173 0.44809932 0.4945468  0.47357593\n",
      " 0.47641957 0.46805803 0.49524043 0.49019727]\n",
      "\n",
      "fit_time (s) =  [473.18660831 492.62380791 453.39417481 485.25326395 495.19305611\n",
      " 413.98942733 408.59016681 403.70448613 421.89387774 371.19816995]\n",
      "\n",
      "score_time (s) =  [10.07372284  7.37179613 11.47942805  8.69402432  7.0176661  10.06066275\n",
      "  8.8425231   6.69840169  6.12081099 10.30668497]\n"
     ]
    }
   ],
   "source": [
    "clf_pipeline, score = apply_cross_validation(LogisticRegression(max_iter=10000), X, y, ngrams= (1,2), sampling_ratio = -1 )\n",
    "logistic_pipelines.append(clf_pipeline)\n",
    "logistic_scores.append(score)"
   ]
  },
  {
   "cell_type": "markdown",
   "metadata": {},
   "source": [
    "##### Without stemming"
   ]
  },
  {
   "cell_type": "code",
   "execution_count": 120,
   "metadata": {
    "scrolled": false
   },
   "outputs": [
    {
     "name": "stdout",
     "output_type": "stream",
     "text": [
      "--------------    K-FOLD WITH STEMMING    --------------\n",
      "\n",
      "Accuracy =  [0.71223471 0.70587827 0.70039882 0.7011271  0.71368129 0.71475637\n",
      " 0.71225941 0.70986648 0.71444425 0.70893012]\n",
      "\n",
      "Precision =  [0.65477763 0.61289727 0.59690346 0.59335743 0.61208366 0.63224767\n",
      " 0.61883029 0.61332429 0.61467603 0.59814204]\n",
      "\n",
      "Recall =  [0.30647156 0.34185304 0.3377306  0.35535401 0.40719365 0.36411419\n",
      " 0.37730599 0.37287437 0.4057508  0.41141915]\n",
      "\n",
      "F1 score =  [0.41752071 0.43890175 0.43138287 0.44450174 0.48904567 0.46210189\n",
      " 0.46878801 0.46378669 0.48882543 0.48751298]\n",
      "\n",
      "fit_time (s) =  [355.3680892  327.922575   347.0167768  308.12320018 341.13552403\n",
      " 328.77930284 331.06877422 336.6174171  332.37395    287.51462412]\n",
      "\n",
      "score_time (s) =  [ 6.53303075  8.97659898  7.66166306 10.44584489  7.97675204  9.55072618\n",
      "  9.00576377  5.8934021   6.03731608  9.91597414]\n"
     ]
    }
   ],
   "source": [
    "clf_pipeline, score = apply_cross_validation(LogisticRegression(max_iter=10000), X_stemming, y, ngrams= (1,2), sampling_ratio = -1, stemming = True)\n",
    "logistic_pipelines.append(clf_pipeline)\n",
    "logistic_scores.append(score)"
   ]
  },
  {
   "cell_type": "markdown",
   "metadata": {},
   "source": [
    "***"
   ]
  },
  {
   "cell_type": "code",
   "execution_count": 121,
   "metadata": {},
   "outputs": [],
   "source": [
    "indexes=[\n",
    "    \"ngram_1_1-sample5050\",\n",
    "    \"ngram_1_1-sample5050_stem\",\n",
    "    \"ngram_1_1-sample6040\",\n",
    "    \"ngram_1_1-sample6040_stem\",\n",
    "    \"ngram_1_1-sampledataset\",\n",
    "    \"ngram_1_1-sampledataset_stem\",\n",
    "    \"ngram_1_2-sample5050\",\n",
    "    \"ngram_1_2-sample5050_stem\",\n",
    "    \"ngram_1_2-sample6040\",\n",
    "    \"ngram_1_2-sample6040_stem\",\n",
    "    \"ngram_1_2-sampledataset\",\n",
    "    \"ngram_1_2-sampledataset_stem\",\n",
    "]\n",
    "\n",
    "def create_df_scores(scores):\n",
    "    list_scores_precision = []\n",
    "    list_scores_recall = []\n",
    "    for x in scores:\n",
    "        list_scores_precision.append(x['test_precision'])\n",
    "        list_scores_recall.append(x['test_recall'])      \n",
    "                                       \n",
    "    score_df_precision = pd.DataFrame(list_scores_precision, index=indexes)\n",
    "    score_df_recall = pd.DataFrame(list_scores_recall, index=indexes)\n",
    "                                       \n",
    "    score_df_precision['mean'] = score_df_precision.mean(axis=1)\n",
    "    score_df_recall['mean'] = score_df_recall.mean(axis=1)\n",
    "    \n",
    "    score_df = pd.DataFrame([score_df_precision['mean'],score_df_recall['mean']]).T\n",
    "    score_df.columns = ['avg_precision', 'avg_recall']\n",
    "    \n",
    "    return score_df"
   ]
  },
  {
   "cell_type": "markdown",
   "metadata": {},
   "source": [
    " "
   ]
  },
  {
   "cell_type": "markdown",
   "metadata": {},
   "source": [
    "### SVM SCORES"
   ]
  },
  {
   "cell_type": "code",
   "execution_count": 122,
   "metadata": {},
   "outputs": [
    {
     "data": {
      "text/html": [
       "<div>\n",
       "<style scoped>\n",
       "    .dataframe tbody tr th:only-of-type {\n",
       "        vertical-align: middle;\n",
       "    }\n",
       "\n",
       "    .dataframe tbody tr th {\n",
       "        vertical-align: top;\n",
       "    }\n",
       "\n",
       "    .dataframe thead th {\n",
       "        text-align: right;\n",
       "    }\n",
       "</style>\n",
       "<table border=\"1\" class=\"dataframe\">\n",
       "  <thead>\n",
       "    <tr style=\"text-align: right;\">\n",
       "      <th></th>\n",
       "      <th>avg_precision</th>\n",
       "      <th>avg_recall</th>\n",
       "    </tr>\n",
       "  </thead>\n",
       "  <tbody>\n",
       "    <tr>\n",
       "      <th>ngram_1_1-sample5050</th>\n",
       "      <td>0.469577</td>\n",
       "      <td>0.597026</td>\n",
       "    </tr>\n",
       "    <tr>\n",
       "      <th>ngram_1_1-sample5050_stem</th>\n",
       "      <td>0.489278</td>\n",
       "      <td>0.607941</td>\n",
       "    </tr>\n",
       "    <tr>\n",
       "      <th>ngram_1_1-sample6040</th>\n",
       "      <td>0.523178</td>\n",
       "      <td>0.455535</td>\n",
       "    </tr>\n",
       "    <tr>\n",
       "      <th>ngram_1_1-sample6040_stem</th>\n",
       "      <td>0.527966</td>\n",
       "      <td>0.448404</td>\n",
       "    </tr>\n",
       "    <tr>\n",
       "      <th>ngram_1_1-sampledataset</th>\n",
       "      <td>0.560247</td>\n",
       "      <td>0.360659</td>\n",
       "    </tr>\n",
       "    <tr>\n",
       "      <th>ngram_1_1-sampledataset_stem</th>\n",
       "      <td>0.566798</td>\n",
       "      <td>0.351332</td>\n",
       "    </tr>\n",
       "    <tr>\n",
       "      <th>ngram_1_2-sample5050</th>\n",
       "      <td>0.473553</td>\n",
       "      <td>0.636570</td>\n",
       "    </tr>\n",
       "    <tr>\n",
       "      <th>ngram_1_2-sample5050_stem</th>\n",
       "      <td>0.471904</td>\n",
       "      <td>0.633613</td>\n",
       "    </tr>\n",
       "    <tr>\n",
       "      <th>ngram_1_2-sample6040</th>\n",
       "      <td>0.524605</td>\n",
       "      <td>0.509570</td>\n",
       "    </tr>\n",
       "    <tr>\n",
       "      <th>ngram_1_2-sample6040_stem</th>\n",
       "      <td>0.522487</td>\n",
       "      <td>0.502160</td>\n",
       "    </tr>\n",
       "    <tr>\n",
       "      <th>ngram_1_2-sampledataset</th>\n",
       "      <td>0.559792</td>\n",
       "      <td>0.424133</td>\n",
       "    </tr>\n",
       "    <tr>\n",
       "      <th>ngram_1_2-sampledataset_stem</th>\n",
       "      <td>0.558130</td>\n",
       "      <td>0.416259</td>\n",
       "    </tr>\n",
       "  </tbody>\n",
       "</table>\n",
       "</div>"
      ],
      "text/plain": [
       "                              avg_precision  avg_recall\n",
       "ngram_1_1-sample5050               0.469577    0.597026\n",
       "ngram_1_1-sample5050_stem          0.489278    0.607941\n",
       "ngram_1_1-sample6040               0.523178    0.455535\n",
       "ngram_1_1-sample6040_stem          0.527966    0.448404\n",
       "ngram_1_1-sampledataset            0.560247    0.360659\n",
       "ngram_1_1-sampledataset_stem       0.566798    0.351332\n",
       "ngram_1_2-sample5050               0.473553    0.636570\n",
       "ngram_1_2-sample5050_stem          0.471904    0.633613\n",
       "ngram_1_2-sample6040               0.524605    0.509570\n",
       "ngram_1_2-sample6040_stem          0.522487    0.502160\n",
       "ngram_1_2-sampledataset            0.559792    0.424133\n",
       "ngram_1_2-sampledataset_stem       0.558130    0.416259"
      ]
     },
     "execution_count": 122,
     "metadata": {},
     "output_type": "execute_result"
    }
   ],
   "source": [
    "svm_df_scores = create_df_scores(svm_scores)\n",
    "svm_df_scores"
   ]
  },
  {
   "cell_type": "markdown",
   "metadata": {},
   "source": [
    "### Drop SVM stemming result\n",
    "We decided to drop the SVM stemming results 'cause it doesn't improve the Accuracy and Precision "
   ]
  },
  {
   "cell_type": "code",
   "execution_count": 123,
   "metadata": {},
   "outputs": [],
   "source": [
    "svm_df_scores = svm_df_scores.drop(index=[\n",
    "    'ngram_1_1-sample5050_stem',\n",
    "    'ngram_1_1-sample6040_stem',\n",
    "    'ngram_1_1-sampledataset_stem',\n",
    "    'ngram_1_2-sample5050_stem',\n",
    "    'ngram_1_2-sample6040_stem',\n",
    "    'ngram_1_2-sampledataset_stem'\n",
    "])"
   ]
  },
  {
   "cell_type": "markdown",
   "metadata": {},
   "source": [
    "## LOGISTIC REGRESSION SCORES"
   ]
  },
  {
   "cell_type": "code",
   "execution_count": 125,
   "metadata": {},
   "outputs": [
    {
     "data": {
      "text/html": [
       "<div>\n",
       "<style scoped>\n",
       "    .dataframe tbody tr th:only-of-type {\n",
       "        vertical-align: middle;\n",
       "    }\n",
       "\n",
       "    .dataframe tbody tr th {\n",
       "        vertical-align: top;\n",
       "    }\n",
       "\n",
       "    .dataframe thead th {\n",
       "        text-align: right;\n",
       "    }\n",
       "</style>\n",
       "<table border=\"1\" class=\"dataframe\">\n",
       "  <thead>\n",
       "    <tr style=\"text-align: right;\">\n",
       "      <th></th>\n",
       "      <th>avg_precision</th>\n",
       "      <th>avg_recall</th>\n",
       "    </tr>\n",
       "  </thead>\n",
       "  <tbody>\n",
       "    <tr>\n",
       "      <th>ngram_1_1-sample5050</th>\n",
       "      <td>0.489077</td>\n",
       "      <td>0.609053</td>\n",
       "    </tr>\n",
       "    <tr>\n",
       "      <th>ngram_1_1-sample5050_stem</th>\n",
       "      <td>0.489757</td>\n",
       "      <td>0.607002</td>\n",
       "    </tr>\n",
       "    <tr>\n",
       "      <th>ngram_1_1-sample6040</th>\n",
       "      <td>0.553827</td>\n",
       "      <td>0.441602</td>\n",
       "    </tr>\n",
       "    <tr>\n",
       "      <th>ngram_1_1-sample6040_stem</th>\n",
       "      <td>0.553606</td>\n",
       "      <td>0.439943</td>\n",
       "    </tr>\n",
       "    <tr>\n",
       "      <th>ngram_1_1-sampledataset</th>\n",
       "      <td>0.597659</td>\n",
       "      <td>0.341623</td>\n",
       "    </tr>\n",
       "    <tr>\n",
       "      <th>ngram_1_1-sampledataset_stem</th>\n",
       "      <td>0.596926</td>\n",
       "      <td>0.337882</td>\n",
       "    </tr>\n",
       "    <tr>\n",
       "      <th>ngram_1_2-sample5050</th>\n",
       "      <td>0.492737</td>\n",
       "      <td>0.648927</td>\n",
       "    </tr>\n",
       "    <tr>\n",
       "      <th>ngram_1_2-sample5050_stem</th>\n",
       "      <td>0.494395</td>\n",
       "      <td>0.642414</td>\n",
       "    </tr>\n",
       "    <tr>\n",
       "      <th>ngram_1_2-sample6040</th>\n",
       "      <td>0.564371</td>\n",
       "      <td>0.477333</td>\n",
       "    </tr>\n",
       "    <tr>\n",
       "      <th>ngram_1_2-sample6040_stem</th>\n",
       "      <td>0.566489</td>\n",
       "      <td>0.470345</td>\n",
       "    </tr>\n",
       "    <tr>\n",
       "      <th>ngram_1_2-sampledataset</th>\n",
       "      <td>0.612023</td>\n",
       "      <td>0.375097</td>\n",
       "    </tr>\n",
       "    <tr>\n",
       "      <th>ngram_1_2-sampledataset_stem</th>\n",
       "      <td>0.614724</td>\n",
       "      <td>0.368007</td>\n",
       "    </tr>\n",
       "  </tbody>\n",
       "</table>\n",
       "</div>"
      ],
      "text/plain": [
       "                              avg_precision  avg_recall\n",
       "ngram_1_1-sample5050               0.489077    0.609053\n",
       "ngram_1_1-sample5050_stem          0.489757    0.607002\n",
       "ngram_1_1-sample6040               0.553827    0.441602\n",
       "ngram_1_1-sample6040_stem          0.553606    0.439943\n",
       "ngram_1_1-sampledataset            0.597659    0.341623\n",
       "ngram_1_1-sampledataset_stem       0.596926    0.337882\n",
       "ngram_1_2-sample5050               0.492737    0.648927\n",
       "ngram_1_2-sample5050_stem          0.494395    0.642414\n",
       "ngram_1_2-sample6040               0.564371    0.477333\n",
       "ngram_1_2-sample6040_stem          0.566489    0.470345\n",
       "ngram_1_2-sampledataset            0.612023    0.375097\n",
       "ngram_1_2-sampledataset_stem       0.614724    0.368007"
      ]
     },
     "execution_count": 125,
     "metadata": {},
     "output_type": "execute_result"
    }
   ],
   "source": [
    "logistic_df_scores = create_df_scores(logistic_scores)\n",
    "logistic_df_scores"
   ]
  },
  {
   "cell_type": "markdown",
   "metadata": {},
   "source": [
    "### Drop Logistic stemming result\n",
    "We decided to drop the Logistic stemming result 'cause it doesn't improve the Accuracy and Precision "
   ]
  },
  {
   "cell_type": "code",
   "execution_count": 126,
   "metadata": {},
   "outputs": [],
   "source": [
    "logistic_df_scores = logistic_df_scores.drop(index=[\n",
    "    'ngram_1_1-sample5050_stem',\n",
    "    'ngram_1_1-sample6040_stem',\n",
    "    'ngram_1_1-sampledataset_stem',\n",
    "    'ngram_1_2-sample5050_stem',\n",
    "    'ngram_1_2-sample6040_stem',\n",
    "    'ngram_1_2-sampledataset_stem'\n",
    "])"
   ]
  },
  {
   "cell_type": "markdown",
   "metadata": {},
   "source": [
    "### EXTRACT ONLY RELEVANT RESULTS"
   ]
  },
  {
   "cell_type": "markdown",
   "metadata": {},
   "source": [
    "We have considered as relevant results the results that had precision and recall > 0.45"
   ]
  },
  {
   "cell_type": "code",
   "execution_count": 132,
   "metadata": {},
   "outputs": [],
   "source": [
    "def get_relevant_results(df_precision, df_recall):\n",
    "    \n",
    "    indexes_precision = df_precision.loc[(\n",
    "        df_precision > 0.45\n",
    "    )].index\n",
    "    \n",
    "    indexes_recall = df_recall.loc[(\n",
    "        df_recall > 0.45\n",
    "    )].index\n",
    "    \n",
    "    indexes = [x for x in indexes_precision if x in indexes_recall]\n",
    "    \n",
    "    return indexes"
   ]
  },
  {
   "cell_type": "markdown",
   "metadata": {},
   "source": [
    "#### SVM RELEVANT RESULTS"
   ]
  },
  {
   "cell_type": "code",
   "execution_count": 133,
   "metadata": {},
   "outputs": [
    {
     "data": {
      "text/html": [
       "<div>\n",
       "<style scoped>\n",
       "    .dataframe tbody tr th:only-of-type {\n",
       "        vertical-align: middle;\n",
       "    }\n",
       "\n",
       "    .dataframe tbody tr th {\n",
       "        vertical-align: top;\n",
       "    }\n",
       "\n",
       "    .dataframe thead th {\n",
       "        text-align: right;\n",
       "    }\n",
       "</style>\n",
       "<table border=\"1\" class=\"dataframe\">\n",
       "  <thead>\n",
       "    <tr style=\"text-align: right;\">\n",
       "      <th></th>\n",
       "      <th>precision</th>\n",
       "      <th>recall</th>\n",
       "    </tr>\n",
       "  </thead>\n",
       "  <tbody>\n",
       "    <tr>\n",
       "      <th>ngram_1_1-sample5050</th>\n",
       "      <td>0.469577</td>\n",
       "      <td>0.597026</td>\n",
       "    </tr>\n",
       "    <tr>\n",
       "      <th>ngram_1_1-sample6040</th>\n",
       "      <td>0.523178</td>\n",
       "      <td>0.455535</td>\n",
       "    </tr>\n",
       "    <tr>\n",
       "      <th>ngram_1_2-sample5050</th>\n",
       "      <td>0.473553</td>\n",
       "      <td>0.636570</td>\n",
       "    </tr>\n",
       "    <tr>\n",
       "      <th>ngram_1_2-sample6040</th>\n",
       "      <td>0.524605</td>\n",
       "      <td>0.509570</td>\n",
       "    </tr>\n",
       "  </tbody>\n",
       "</table>\n",
       "</div>"
      ],
      "text/plain": [
       "                      precision    recall\n",
       "ngram_1_1-sample5050   0.469577  0.597026\n",
       "ngram_1_1-sample6040   0.523178  0.455535\n",
       "ngram_1_2-sample5050   0.473553  0.636570\n",
       "ngram_1_2-sample6040   0.524605  0.509570"
      ]
     },
     "execution_count": 133,
     "metadata": {},
     "output_type": "execute_result"
    }
   ],
   "source": [
    "svm_indexes = get_relevant_results(svm_df_scores['avg_precision'], svm_df_scores['avg_recall'])\n",
    "svm_results = pd.DataFrame([svm_df_scores['avg_precision'].rename('precision'),svm_df_scores['avg_recall'].rename('recall')]).T.loc[svm_indexes]\n",
    "svm_results"
   ]
  },
  {
   "cell_type": "markdown",
   "metadata": {},
   "source": [
    "#### LOGISTIC RELEVANT RESULTS"
   ]
  },
  {
   "cell_type": "code",
   "execution_count": 134,
   "metadata": {},
   "outputs": [
    {
     "data": {
      "text/html": [
       "<div>\n",
       "<style scoped>\n",
       "    .dataframe tbody tr th:only-of-type {\n",
       "        vertical-align: middle;\n",
       "    }\n",
       "\n",
       "    .dataframe tbody tr th {\n",
       "        vertical-align: top;\n",
       "    }\n",
       "\n",
       "    .dataframe thead th {\n",
       "        text-align: right;\n",
       "    }\n",
       "</style>\n",
       "<table border=\"1\" class=\"dataframe\">\n",
       "  <thead>\n",
       "    <tr style=\"text-align: right;\">\n",
       "      <th></th>\n",
       "      <th>precision</th>\n",
       "      <th>recall</th>\n",
       "    </tr>\n",
       "  </thead>\n",
       "  <tbody>\n",
       "    <tr>\n",
       "      <th>ngram_1_1-sample5050</th>\n",
       "      <td>0.489077</td>\n",
       "      <td>0.609053</td>\n",
       "    </tr>\n",
       "    <tr>\n",
       "      <th>ngram_1_2-sample5050</th>\n",
       "      <td>0.492737</td>\n",
       "      <td>0.648927</td>\n",
       "    </tr>\n",
       "    <tr>\n",
       "      <th>ngram_1_2-sample6040</th>\n",
       "      <td>0.564371</td>\n",
       "      <td>0.477333</td>\n",
       "    </tr>\n",
       "  </tbody>\n",
       "</table>\n",
       "</div>"
      ],
      "text/plain": [
       "                      precision    recall\n",
       "ngram_1_1-sample5050   0.489077  0.609053\n",
       "ngram_1_2-sample5050   0.492737  0.648927\n",
       "ngram_1_2-sample6040   0.564371  0.477333"
      ]
     },
     "execution_count": 134,
     "metadata": {},
     "output_type": "execute_result"
    }
   ],
   "source": [
    "logistic_indexes = get_relevant_results(logistic_df_scores['avg_precision'], logistic_df_scores['avg_recall'])\n",
    "logistic_results = pd.DataFrame([logistic_df_scores['avg_precision'].rename('precision'),logistic_df_scores['avg_recall'].rename('recall')]).T.loc[logistic_indexes]\n",
    "logistic_results"
   ]
  },
  {
   "cell_type": "markdown",
   "metadata": {},
   "source": [
    "### COMPARISON OF BEST RESULTS OF SVM & LOGISTC"
   ]
  },
  {
   "cell_type": "markdown",
   "metadata": {},
   "source": [
    "In this subsection we compared the performance of SVM and Logistic after changing some count vectorizer parameters and distribution of class in the train dataset."
   ]
  },
  {
   "cell_type": "code",
   "execution_count": 135,
   "metadata": {},
   "outputs": [
    {
     "data": {
      "image/png": "[encoded data removed]",
      "text/plain": [
       "<Figure size 432x288 with 1 Axes>"
      ]
     },
     "metadata": {
      "needs_background": "light"
     },
     "output_type": "display_data"
    }
   ],
   "source": [
    "plt.scatter(svm_results['precision'], svm_results['recall'], color ='tab:blue')\n",
    "plt.scatter(logistic_results['precision'], logistic_results['recall'], color ='tab:orange')\n",
    "\n",
    "plt.xlim([0.4, 0.6]) \n",
    "plt.ylim([0.45, 0.7]) \n",
    "\n",
    "plt.xlabel('precision')\n",
    "plt.ylabel('recall')\n",
    "\n",
    "plt.legend(labels=['svm','logistic'])\n",
    "\n",
    "plt.title('MODEL COMPARISON SVM/LOGISTIC')\n",
    "\n",
    "plt.show()"
   ]
  },
  {
   "cell_type": "markdown",
   "metadata": {},
   "source": [
    "Since in our application the recall measure is more relevant respect to the precision since it is better to detect a true spoiler review as spoiler than classifying wrong the non-spoiler reviews. \\\n",
    "Even if the SVM gives a result that has precision and recall > 0.5, we decided to get more in details with the Logistic model since it gives the best results in terms of recall and gives acceptable results in terms of precision. "
   ]
  },
  {
   "cell_type": "markdown",
   "metadata": {},
   "source": [
    "## LOGISTIC MODEL SELECTION BASED ON PRECISION/RECALL"
   ]
  },
  {
   "cell_type": "markdown",
   "metadata": {},
   "source": [
    "We have analyzed the best results only for logistic model and decided that the best model in this case is the one with parameters { ngram=(1,2), sample=(50/50)} which has a better recall and gives an acceptable precision."
   ]
  },
  {
   "cell_type": "code",
   "execution_count": 136,
   "metadata": {},
   "outputs": [
    {
     "data": {
      "image/png": "[encoded data removed]",
      "text/plain": [
       "<Figure size 432x288 with 1 Axes>"
      ]
     },
     "metadata": {
      "needs_background": "light"
     },
     "output_type": "display_data"
    }
   ],
   "source": [
    "colors = ['orange','blue', 'red']\n",
    "\n",
    "for i in range(logistic_results.shape[0]):\n",
    "    plt.scatter(logistic_results.precision[i], logistic_results.recall[i], color = colors[i])\n",
    "\n",
    "plt.xlim([0.45, 0.6]) \n",
    "plt.ylim([0.45, 0.7]) \n",
    "\n",
    "plt.xlabel('precision')\n",
    "plt.ylabel('recall')\n",
    "\n",
    "plt.legend(labels=logistic_results.index)\n",
    "\n",
    "plt.title('MODEL SELECTION BASED ON PRECISION/RECALL')\n",
    "\n",
    "plt.show()"
   ]
  },
  {
   "cell_type": "markdown",
   "metadata": {},
   "source": [
    " "
   ]
  },
  {
   "cell_type": "markdown",
   "metadata": {},
   "source": [
    "# MODEL DEPLOY"
   ]
  },
  {
   "cell_type": "markdown",
   "metadata": {},
   "source": [
    "With the model selection that we have performed, we can now deploy the model with the parameters chosen.\n",
    "In this section we will fit the model with all the train dataset and test it with the test set extrapolated in the Data Preprocessing section. \\\n",
    "To remember: The test set is composed with the latests reviews of the original dataset (2017-01) and we will divide them into K-fold (based on month) to evaluate our final model."
   ]
  },
  {
   "cell_type": "code",
   "execution_count": 137,
   "metadata": {},
   "outputs": [],
   "source": [
    "import joblib"
   ]
  },
  {
   "cell_type": "code",
   "execution_count": 138,
   "metadata": {},
   "outputs": [],
   "source": [
    "text_clf = Pipeline([\n",
    "            ('vect', TfidfVectorizer(ngram_range=(1,2))),\n",
    "            ('rus', RandomUnderSampler(sampling_strategy=(50/50))),\n",
    "            ('clf', LogisticRegression(max_iter=10000))\n",
    "        ])"
   ]
  },
  {
   "cell_type": "code",
   "execution_count": 139,
   "metadata": {},
   "outputs": [
    {
     "data": {
      "text/plain": [
       "Pipeline(steps=[('vect', TfidfVectorizer(ngram_range=(1, 2))),\n",
       "                ('rus', RandomUnderSampler(sampling_strategy=1.0)),\n",
       "                ('clf', LogisticRegression(max_iter=10000))])"
      ]
     },
     "execution_count": 139,
     "metadata": {},
     "output_type": "execute_result"
    }
   ],
   "source": [
    "text_clf.fit(X,y)"
   ]
  },
  {
   "cell_type": "markdown",
   "metadata": {},
   "source": [
    "### EVALUATE THE MODEL"
   ]
  },
  {
   "cell_type": "code",
   "execution_count": 140,
   "metadata": {},
   "outputs": [],
   "source": [
    "# Load the test set\n",
    "df_test = pd.read_csv('./test_set.csv')"
   ]
  },
  {
   "cell_type": "code",
   "execution_count": 148,
   "metadata": {},
   "outputs": [],
   "source": [
    "# Create K-fold based on month division using test dateset\n",
    "\n",
    "df_test.index = pd.to_datetime(df_test['review_date'],format='%Y-%m-%d')\n",
    "\n",
    "# Groupby month\n",
    "group = df_test.groupby(pd.Grouper(freq='M'))\n",
    "\n",
    "# Divide month value in K-folds\n",
    "folds = []\n",
    "group.apply(lambda x: folds.append(pd.DataFrame(x)))\n",
    "\n",
    "for fold in folds:\n",
    "    fold.reset_index(drop=True, inplace=True)"
   ]
  },
  {
   "cell_type": "markdown",
   "metadata": {},
   "source": [
    "#### Test set class distribution"
   ]
  },
  {
   "cell_type": "code",
   "execution_count": 149,
   "metadata": {},
   "outputs": [
    {
     "data": {
      "image/png": "[encoded data removed]",
      "text/plain": [
       "<Figure size 1440x504 with 2 Axes>"
      ]
     },
     "metadata": {
      "needs_background": "light"
     },
     "output_type": "display_data"
    }
   ],
   "source": [
    "labels = []\n",
    "spoiler_list = []\n",
    "spoiler_distribs = []\n",
    "not_spoiler_list = []\n",
    "not_spoiler_distribs = []\n",
    "\n",
    "for fold in folds:\n",
    "    # Extract month and year \n",
    "    month_year = datetime.strptime(fold['review_date'][0],\"%Y-%m-%d\").strftime('%Y-%m')\n",
    "    \n",
    "    # Number of the total review in the fold\n",
    "    review_number = len(fold['is_spoiler'])\n",
    "    \n",
    "    # Number of spoiler/not spoiler review in the folt \n",
    "    spoiler = int(fold['is_spoiler'][fold['is_spoiler']==1].value_counts())\n",
    "    not_spoiler = int(fold['is_spoiler'][fold['is_spoiler']==0].value_counts())\n",
    "    \n",
    "    # Compute distribution \n",
    "    spoiler_distrib = spoiler/review_number\n",
    "    not_spoiler_distrib = not_spoiler/review_number\n",
    "    \n",
    "    # List to plot values\n",
    "    labels.append(month_year)\n",
    "\n",
    "    spoiler_list.append(spoiler)\n",
    "    not_spoiler_list.append(not_spoiler)\n",
    "    \n",
    "    spoiler_distribs.append(spoiler_distrib)\n",
    "    not_spoiler_distribs.append(not_spoiler_distrib)\n",
    "\n",
    "    \n",
    "# ------ PLOT ------ #\n",
    "    \n",
    "width = 0.35\n",
    "fig, (ax1, ax2) = plt.subplots(1, 2, figsize=(20,7))\n",
    "\n",
    "ax1.bar(labels, not_spoiler_list, width, label='Not_spoiler')\n",
    "ax1.bar(labels, spoiler_list, width, bottom=not_spoiler_list, label='Spoiler')\n",
    "\n",
    "ax1.set_ylabel('Number of instances')\n",
    "ax1.set_title('Instances by month and spoiler')\n",
    "ax1.tick_params(axis='x', rotation=45)\n",
    "ax1.legend()\n",
    "\n",
    "\n",
    "ax2.bar(labels, not_spoiler_distribs, width, label='Not_spoiler')\n",
    "ax2.bar(labels, spoiler_distribs, width, bottom=not_spoiler_distribs, label='Spoiler')\n",
    "\n",
    "ax2.set_ylabel('Monthly distribution of spoilers')\n",
    "ax2.set_title('Distribution percentage')\n",
    "ax2.tick_params(axis='x', rotation=45)\n",
    "ax2.legend()\n",
    "\n",
    "plt.show()"
   ]
  },
  {
   "cell_type": "markdown",
   "metadata": {},
   "source": [
    "#### Evaluate the model on the K-folds"
   ]
  },
  {
   "cell_type": "code",
   "execution_count": 150,
   "metadata": {
    "scrolled": false
   },
   "outputs": [
    {
     "data": {
      "text/html": [
       "<div>\n",
       "<style scoped>\n",
       "    .dataframe tbody tr th:only-of-type {\n",
       "        vertical-align: middle;\n",
       "    }\n",
       "\n",
       "    .dataframe tbody tr th {\n",
       "        vertical-align: top;\n",
       "    }\n",
       "\n",
       "    .dataframe thead th {\n",
       "        text-align: right;\n",
       "    }\n",
       "</style>\n",
       "<table border=\"1\" class=\"dataframe\">\n",
       "  <thead>\n",
       "    <tr style=\"text-align: right;\">\n",
       "      <th></th>\n",
       "      <th>Precision</th>\n",
       "      <th>Recall</th>\n",
       "    </tr>\n",
       "  </thead>\n",
       "  <tbody>\n",
       "    <tr>\n",
       "      <th>2017-01</th>\n",
       "      <td>0.534842</td>\n",
       "      <td>0.663220</td>\n",
       "    </tr>\n",
       "    <tr>\n",
       "      <th>2017-02</th>\n",
       "      <td>0.526356</td>\n",
       "      <td>0.649387</td>\n",
       "    </tr>\n",
       "    <tr>\n",
       "      <th>2017-03</th>\n",
       "      <td>0.506584</td>\n",
       "      <td>0.624253</td>\n",
       "    </tr>\n",
       "    <tr>\n",
       "      <th>2017-04</th>\n",
       "      <td>0.521472</td>\n",
       "      <td>0.642115</td>\n",
       "    </tr>\n",
       "    <tr>\n",
       "      <th>2017-05</th>\n",
       "      <td>0.521212</td>\n",
       "      <td>0.639066</td>\n",
       "    </tr>\n",
       "    <tr>\n",
       "      <th>2017-06</th>\n",
       "      <td>0.507737</td>\n",
       "      <td>0.589226</td>\n",
       "    </tr>\n",
       "    <tr>\n",
       "      <th>2017-07</th>\n",
       "      <td>0.494652</td>\n",
       "      <td>0.619765</td>\n",
       "    </tr>\n",
       "    <tr>\n",
       "      <th>2017-08</th>\n",
       "      <td>0.508685</td>\n",
       "      <td>0.620585</td>\n",
       "    </tr>\n",
       "    <tr>\n",
       "      <th>2017-09</th>\n",
       "      <td>0.531138</td>\n",
       "      <td>0.600324</td>\n",
       "    </tr>\n",
       "    <tr>\n",
       "      <th>2017-10</th>\n",
       "      <td>0.523398</td>\n",
       "      <td>0.595902</td>\n",
       "    </tr>\n",
       "    <tr>\n",
       "      <th>2017-11</th>\n",
       "      <td>0.537083</td>\n",
       "      <td>0.614134</td>\n",
       "    </tr>\n",
       "    <tr>\n",
       "      <th>2017-12</th>\n",
       "      <td>0.500243</td>\n",
       "      <td>0.621524</td>\n",
       "    </tr>\n",
       "  </tbody>\n",
       "</table>\n",
       "</div>"
      ],
      "text/plain": [
       "         Precision    Recall\n",
       "2017-01   0.534842  0.663220\n",
       "2017-02   0.526356  0.649387\n",
       "2017-03   0.506584  0.624253\n",
       "2017-04   0.521472  0.642115\n",
       "2017-05   0.521212  0.639066\n",
       "2017-06   0.507737  0.589226\n",
       "2017-07   0.494652  0.619765\n",
       "2017-08   0.508685  0.620585\n",
       "2017-09   0.531138  0.600324\n",
       "2017-10   0.523398  0.595902\n",
       "2017-11   0.537083  0.614134\n",
       "2017-12   0.500243  0.621524"
      ]
     },
     "execution_count": 150,
     "metadata": {},
     "output_type": "execute_result"
    }
   ],
   "source": [
    "test_precision_list = []\n",
    "test_recall_list = []\n",
    "labels = []\n",
    "\n",
    "for fold in folds:\n",
    "    # Extract month and year \n",
    "    month_year = datetime.strptime(fold['review_date'][0],\"%Y-%m-%d\").strftime('%Y-%m')\n",
    "    \n",
    "    # Predict values on the fold \n",
    "    y_pred_class = text_clf.predict(fold['cleaned_review'])\n",
    "    \n",
    "    # Compute precision and recall on the fold\n",
    "    precision = precision_score(fold['is_spoiler'], y_pred_class)\n",
    "    recall = recall_score(fold['is_spoiler'], y_pred_class)\n",
    "    \n",
    "    test_precision_list.append(precision)\n",
    "    test_recall_list.append(recall)\n",
    "    labels.append(month_year)\n",
    "\n",
    "# Create dataframe with precision-recall foreach fold\n",
    "test_scores = pd.DataFrame([test_precision_list, test_recall_list]).T\n",
    "test_scores.columns = [\"Precision\", \"Recall\"]\n",
    "test_scores.index = labels\n",
    "\n",
    "test_scores"
   ]
  },
  {
   "cell_type": "markdown",
   "metadata": {},
   "source": [
    "## EXPORT THE MODEL"
   ]
  },
  {
   "cell_type": "code",
   "execution_count": 151,
   "metadata": {},
   "outputs": [
    {
     "data": {
      "text/plain": [
       "['SpoilerDetector.pkl']"
      ]
     },
     "execution_count": 151,
     "metadata": {},
     "output_type": "execute_result"
    }
   ],
   "source": [
    "joblib.dump(text_clf, 'SpoilerDetector.pkl')"
   ]
  },
  {
   "cell_type": "code",
   "execution_count": null,
   "metadata": {},
   "outputs": [],
   "source": []
  }
 ],
 "metadata": {
  "kernelspec": {
   "display_name": "Python 3 (ipykernel)",
   "language": "python",
   "name": "python3"
  },
  "language_info": {
   "codemirror_mode": {
    "name": "ipython",
    "version": 3
   },
   "file_extension": ".py",
   "mimetype": "text/x-python",
   "name": "python",
   "nbconvert_exporter": "python",
   "pygments_lexer": "ipython3",
   "version": "3.9.7"
  }
 },
 "nbformat": 4,
 "nbformat_minor": 4
}
